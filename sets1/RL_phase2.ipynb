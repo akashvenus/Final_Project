{
 "cells": [
  {
   "cell_type": "code",
   "execution_count": 1,
   "id": "9555a25f",
   "metadata": {},
   "outputs": [
    {
     "name": "stdout",
     "output_type": "stream",
     "text": [
      "Collecting gym\n",
      "  Downloading gym-0.26.2.tar.gz (721 kB)\n",
      "     ---------------------------------------- 0.0/721.7 kB ? eta -:--:--\n",
      "     -------------------------------------- 721.7/721.7 kB 9.8 MB/s eta 0:00:00\n",
      "  Installing build dependencies: started\n",
      "  Installing build dependencies: finished with status 'done'\n",
      "  Getting requirements to build wheel: started\n",
      "  Getting requirements to build wheel: finished with status 'done'\n",
      "  Preparing metadata (pyproject.toml): started\n",
      "  Preparing metadata (pyproject.toml): finished with status 'done'\n",
      "Requirement already satisfied: numpy>=1.18.0 in c:\\users\\akash\\anaconda3\\envs\\proj_env\\lib\\site-packages (from gym) (1.26.4)\n",
      "Requirement already satisfied: cloudpickle>=1.2.0 in c:\\users\\akash\\anaconda3\\envs\\proj_env\\lib\\site-packages (from gym) (3.1.1)\n",
      "Collecting gym_notices>=0.0.4 (from gym)\n",
      "  Using cached gym_notices-0.0.8-py3-none-any.whl.metadata (1.0 kB)\n",
      "Using cached gym_notices-0.0.8-py3-none-any.whl (3.0 kB)\n",
      "Building wheels for collected packages: gym\n",
      "  Building wheel for gym (pyproject.toml): started\n",
      "  Building wheel for gym (pyproject.toml): finished with status 'done'\n",
      "  Created wheel for gym: filename=gym-0.26.2-py3-none-any.whl size=827739 sha256=c17b2341023032c6fed2e698b02394f4577803d3688b051416e70ad403916b2c\n",
      "  Stored in directory: c:\\users\\akash\\appdata\\local\\pip\\cache\\wheels\\b9\\22\\6d\\3e7b32d98451b4cd9d12417052affbeeeea012955d437da1da\n",
      "Successfully built gym\n",
      "Installing collected packages: gym_notices, gym\n",
      "Successfully installed gym-0.26.2 gym_notices-0.0.8\n"
     ]
    }
   ],
   "source": [
    "# !pip install gym"
   ]
  },
  {
   "cell_type": "code",
   "execution_count": 1,
   "id": "21c974b0",
   "metadata": {},
   "outputs": [],
   "source": [
    "import gym\n",
    "import numpy as np\n",
    "import pandas as pd\n",
    "import torch\n",
    "import torch.nn as nn\n",
    "import torch.optim as optim\n",
    "import torch.nn.functional as F\n",
    "import random\n",
    "import os"
   ]
  },
  {
   "cell_type": "code",
   "execution_count": 2,
   "id": "a8542c6a",
   "metadata": {},
   "outputs": [],
   "source": [
    "DEFAULT_RANDOM_SEED = 2021\n",
    "\n",
    "def seedBasic(seed=DEFAULT_RANDOM_SEED):\n",
    "    random.seed(seed)\n",
    "    os.environ['PYTHONHASHSEED'] = str(seed)\n",
    "    np.random.seed(seed)\n",
    "\n",
    "def seedEverything(seed=DEFAULT_RANDOM_SEED):\n",
    "    seedBasic(seed)\n",
    "    torch.manual_seed(seed)\n",
    "    torch.cuda.manual_seed(seed)\n",
    "    torch.backends.cudnn.deterministic = True\n",
    "    torch.backends.cudnn.benchmark = False\n",
    "\n",
    "seedEverything(2021)"
   ]
  },
  {
   "cell_type": "code",
   "execution_count": 3,
   "id": "18524e1a",
   "metadata": {},
   "outputs": [],
   "source": [
    "# ---------------------------\n",
    "# Custom Environment\n",
    "# ---------------------------\n",
    "class TabularClassificationEnv(gym.Env):\n",
    "    def __init__(self, df):\n",
    "        super(TabularClassificationEnv, self).__init__()\n",
    "        self.df = df.reset_index(drop=True)\n",
    "        self.current_index = 0\n",
    "\n",
    "        # Action space: two actions (0 and 1)\n",
    "        self.action_space = gym.spaces.Discrete(2)\n",
    "        # Observation space: features (assumes label is dropped)\n",
    "        num_features = df.shape[1] - 1\n",
    "        self.observation_space = gym.spaces.Box(\n",
    "            low=-np.inf, high=np.inf, shape=(num_features,), dtype=np.float32)\n",
    "\n",
    "    def reset(self):\n",
    "        self.current_index = 0\n",
    "        return self._get_observation()\n",
    "\n",
    "    def step(self, action):\n",
    "        if self.current_index >= len(self.df):\n",
    "            return self._get_observation(), 0.0, True, {}\n",
    "\n",
    "        # Retrieve the true label; assumes column name 'label'\n",
    "        true_label = self.df.iloc[self.current_index]['label']\n",
    "\n",
    "        # Modified reward structure:\n",
    "        # If the sample is positive (label == 1), reward correctly.\n",
    "        # Penalize misclassification more severely.\n",
    "        if action == true_label:\n",
    "            reward = 2.0 if true_label == 0 else 1.0\n",
    "        else:\n",
    "            reward = -3.0 if true_label == 1 else -1.0\n",
    "\n",
    "        self.current_index += 1\n",
    "        done = self.current_index >= len(self.df)\n",
    "        if done:\n",
    "            return self._get_observation(), reward, done, {}\n",
    "        else:\n",
    "            return self._get_observation(), reward, done, {}\n",
    "\n",
    "    def _get_observation(self):\n",
    "        if self.current_index < len(self.df):\n",
    "            row = self.df.iloc[self.current_index]\n",
    "            if 'label' in self.df.columns:\n",
    "                obs = row.drop('label').values.astype(np.float32)\n",
    "            else:\n",
    "                obs = row.values[:-1].astype(np.float32)\n",
    "            return obs\n",
    "        else:\n",
    "            return np.zeros(self.observation_space.shape, dtype=np.float32)"
   ]
  },
  {
   "cell_type": "markdown",
   "id": "45436ed4",
   "metadata": {},
   "source": [
    "Setting environment for the agent"
   ]
  },
  {
   "cell_type": "code",
   "execution_count": 4,
   "id": "ca74474d",
   "metadata": {},
   "outputs": [],
   "source": [
    "# ---------------------------\n",
    "# Q-Network Definition\n",
    "# ---------------------------\n",
    "class QNetwork(nn.Module):\n",
    "    def __init__(self, input_dim, output_dim, hidden_sizes=(32, 32)):\n",
    "        super(QNetwork, self).__init__()\n",
    "        layers = []\n",
    "        in_dim = input_dim\n",
    "        for h in hidden_sizes:\n",
    "            layers.append(nn.Linear(in_dim, h))\n",
    "            layers.append(nn.ReLU())\n",
    "            in_dim = h\n",
    "        layers.append(nn.Linear(in_dim, output_dim))\n",
    "        self.model = nn.Sequential(*layers)\n",
    "\n",
    "    def forward(self, x):\n",
    "        return self.model(x)"
   ]
  },
  {
   "cell_type": "code",
   "execution_count": 5,
   "id": "99c6f392",
   "metadata": {},
   "outputs": [],
   "source": [
    "# ---------------------------\n",
    "# DQN Agent\n",
    "# ---------------------------\n",
    "class DQNAgent:\n",
    "    def __init__(self, obs_dim, action_dim, hidden_sizes=(32, 32), lr=1e-3,\n",
    "                 gamma=0.99, epsilon=0.1, device='cpu'):\n",
    "        self.q_net = QNetwork(obs_dim, action_dim, hidden_sizes).to(device)\n",
    "        self.optimizer = optim.Adam(self.q_net.parameters(), lr=lr)\n",
    "        self.gamma = gamma\n",
    "        self.epsilon = epsilon\n",
    "        self.action_dim = action_dim\n",
    "        self.device = device\n",
    "\n",
    "    def select_action(self, state):\n",
    "        # Epsilon-greedy action selection\n",
    "        if random.random() < self.epsilon:\n",
    "            return random.randint(0, self.action_dim - 1)\n",
    "        state_tensor = torch.FloatTensor(state).unsqueeze(0).to(self.device)\n",
    "        with torch.no_grad():\n",
    "            q_values = self.q_net(state_tensor)\n",
    "        return q_values.argmax().item()\n",
    "\n",
    "    def train_step(self, batch):\n",
    "        # Unpack a batch of transitions\n",
    "        states, actions, rewards, next_states, dones = zip(*batch)\n",
    "        states = torch.FloatTensor(np.array(states)).to(self.device)\n",
    "        actions = torch.LongTensor(actions).unsqueeze(1).to(self.device)\n",
    "        rewards = torch.FloatTensor(rewards).unsqueeze(1).to(self.device)\n",
    "        next_states = torch.FloatTensor(np.array(next_states)).to(self.device)\n",
    "        dones = torch.FloatTensor(dones).unsqueeze(1).to(self.device)\n",
    "\n",
    "        # Compute current Q-values for taken actions\n",
    "        q_values = self.q_net(states).gather(1, actions)\n",
    "        # Compute the next state's maximum Q-value\n",
    "        next_q_values = self.q_net(next_states).max(1)[0].unsqueeze(1)\n",
    "        # Compute TD target\n",
    "        target = rewards + self.gamma * next_q_values * (1 - dones)\n",
    "        loss = F.mse_loss(q_values, target)\n",
    "\n",
    "        self.optimizer.zero_grad()\n",
    "        loss.backward()\n",
    "        self.optimizer.step()\n",
    "        return loss.item()"
   ]
  },
  {
   "cell_type": "code",
   "execution_count": 6,
   "id": "4a0fb161",
   "metadata": {},
   "outputs": [],
   "source": [
    "# ---------------------------\n",
    "# Simple Replay Buffer\n",
    "# ---------------------------\n",
    "class ReplayBuffer:\n",
    "    def __init__(self):\n",
    "        self.buffer = []\n",
    "\n",
    "    def add(self, transition):\n",
    "        self.buffer.append(transition)\n",
    "\n",
    "    def clear(self):\n",
    "        self.buffer = []\n",
    "\n",
    "    def sample_all(self):\n",
    "        return self.buffer.copy()\n",
    "\n",
    "    def __len__(self):\n",
    "        return len(self.buffer)"
   ]
  },
  {
   "cell_type": "code",
   "execution_count": 7,
   "id": "d2fb2d67",
   "metadata": {},
   "outputs": [],
   "source": [
    "# ---------------------------\n",
    "# Training Function\n",
    "# ---------------------------\n",
    "def train_agent(agent, env, replay_buffer, num_iterations=1000, batch_size=32, verbose=True):\n",
    "    state = env.reset()\n",
    "    print(\"Training...\")\n",
    "    for i in range(num_iterations):\n",
    "        action = agent.select_action(state)\n",
    "        next_state, reward, done, _ = env.step(action)\n",
    "        replay_buffer.add((state, action, reward, next_state, float(done)))\n",
    "        state = next_state\n",
    "        if done:\n",
    "            state = env.reset()\n",
    "\n",
    "        # Train only if we have enough samples in the buffer\n",
    "        if len(replay_buffer) >= batch_size:\n",
    "            # Sample a mini-batch randomly from the replay buffer\n",
    "            batch = random.sample(replay_buffer.buffer, batch_size)\n",
    "            loss = agent.train_step(batch)\n",
    "            if i % 100 == 0 and verbose:\n",
    "                  print(f\"Iteration {i}, Loss: {loss}\")\n"
   ]
  },
  {
   "cell_type": "code",
   "execution_count": 8,
   "id": "960ed887",
   "metadata": {},
   "outputs": [],
   "source": [
    "from sklearn.metrics import precision_score, recall_score, f1_score, confusion_matrix\n",
    "\n",
    "def test_agent(agent, env):\n",
    "    # Set epsilon to 0 for deterministic behavior during testing\n",
    "    original_epsilon = agent.epsilon\n",
    "    agent.epsilon = 0.0\n",
    "\n",
    "    state = env.reset()\n",
    "    total_reward = 0\n",
    "    correct_predictions = 0\n",
    "    total_predictions = 0\n",
    "    y_true = []\n",
    "    y_pred = []\n",
    "    done = False\n",
    "\n",
    "    while not done:\n",
    "        action = agent.select_action(state)\n",
    "        next_state, reward, done, _ = env.step(action)\n",
    "        total_reward += reward\n",
    "\n",
    "        # After calling step, the environment index is incremented.\n",
    "        # This allows us to get the true label corresponding to the state from which the action was taken.\n",
    "        idx = env.current_index - 1 if env.current_index > 0 else 0\n",
    "        true_label = env.df.iloc[idx]['label']\n",
    "\n",
    "        y_true.append(true_label)\n",
    "        y_pred.append(action)\n",
    "\n",
    "        if action == true_label:\n",
    "            correct_predictions += 1\n",
    "        total_predictions += 1\n",
    "\n",
    "        state = next_state\n",
    "\n",
    "    accuracy = correct_predictions / total_predictions if total_predictions > 0 else 0\n",
    "\n",
    "    precision = precision_score(y_true, y_pred, pos_label=1)\n",
    "    recall = recall_score(y_true, y_pred, pos_label=1)\n",
    "    f1 = f1_score(y_true, y_pred, pos_label=1)\n",
    "    cm = confusion_matrix(y_true, y_pred)\n",
    "    TN, FP, FN, TP = cm.ravel()\n",
    "    false_positive_rate = FP / (FP + TN) if (FP + TN) > 0 else 0.0\n",
    "\n",
    "    print(f\"Total Reward: {total_reward}, Accuracy: {accuracy}\")\n",
    "    print(f\"Precision: {precision}\")\n",
    "    print(f\"Recall: {recall}\")\n",
    "    print(f\"F1 Score: {f1}\")\n",
    "    print(f\"False Positive Rate: {false_positive_rate}\")\n",
    "\n",
    "    # Restore the original epsilon\n",
    "    agent.epsilon = original_epsilon\n"
   ]
  },
  {
   "cell_type": "markdown",
   "id": "4afab060",
   "metadata": {},
   "source": [
    "Above function is used by test agent for evaluation"
   ]
  },
  {
   "cell_type": "code",
   "execution_count": 9,
   "id": "c3b49993",
   "metadata": {},
   "outputs": [],
   "source": [
    "import pandas as pd\n",
    "import joblib\n",
    "from sklearn.model_selection import train_test_split\n",
    "from sklearn.preprocessing import StandardScaler\n",
    "\n",
    "# Load your DataFrame\n",
    "df = pd.read_csv('train.csv')"
   ]
  },
  {
   "cell_type": "code",
   "execution_count": 10,
   "id": "4c9390e9",
   "metadata": {},
   "outputs": [],
   "source": [
    "df['label'] = df['label'].apply(lambda x: 0 if x == 'BENIGN' else 1)\n",
    "df.drop('Unnamed: 0',axis=1,inplace=True)\n",
    "\n",
    "features_to_drop = [\n",
    "    'bwd psh flags', 'bwd urg flags', 'fwd avg bytes/bulk',\n",
    "    'fwd avg packets/bulk', 'fwd avg bulk rate', 'bwd avg bytes/bulk',\n",
    "    'bwd avg packets/bulk', 'bwd avg bulk rate', 'fwd header length.1'\n",
    "]\n",
    "\n",
    "\n",
    "df = df.drop(columns=features_to_drop)"
   ]
  },
  {
   "cell_type": "code",
   "execution_count": 11,
   "id": "9c87e76a",
   "metadata": {},
   "outputs": [],
   "source": [
    "# Split into training and testing sets (67% train, 33% test)\n",
    "X = df.drop('label',axis=1)\n",
    "y = df['label']\n",
    "\n",
    "X_train, X_test, y_train, y_test = train_test_split(X, y, test_size=0.33, random_state=DEFAULT_RANDOM_SEED)\n",
    "\n",
    "scaler = joblib.load(\"phase2scaler.pkl\")\n",
    "\n",
    "features = scaler.feature_names_in_\n",
    "\n",
    "X_train = X_train[features]\n",
    "X_test = X_test[features]\n",
    "\n",
    "\n",
    "X_train_scaled = pd.DataFrame(\n",
    "    scaler.transform(X_train),\n",
    "    columns=scaler.feature_names_in_,\n",
    "    index=X_train.index\n",
    ")\n",
    "X_test_scaled = pd.DataFrame(\n",
    "    scaler.transform(X_test),\n",
    "    columns=scaler.feature_names_in_,\n",
    "    index=X_test.index\n",
    ")\n",
    "\n",
    "train_df = pd.concat([X_train_scaled, y_train], axis=1)\n",
    "test_df = pd.concat([X_test_scaled, y_test], axis=1)"
   ]
  },
  {
   "cell_type": "code",
   "execution_count": 12,
   "id": "707183da",
   "metadata": {},
   "outputs": [],
   "source": [
    "# Create training and testing environments\n",
    "train_env = TabularClassificationEnv(train_df)\n",
    "test_env = TabularClassificationEnv(test_df)\n",
    "\n",
    "# Get observation and action dimensions from the training environment\n",
    "obs_dim = train_env.observation_space.shape[0]\n",
    "action_dim = train_env.action_space.n\n",
    "\n",
    "# Instantiate the DQN Agent and Replay Buffer\n",
    "agent = DQNAgent(obs_dim, action_dim, hidden_sizes=(128, 128), lr=0.001,\n",
    "                 gamma=0.99, epsilon=0.1, device='cpu')\n",
    "replay_buffer = ReplayBuffer()"
   ]
  },
  {
   "cell_type": "code",
   "execution_count": 13,
   "id": "badb46c8",
   "metadata": {},
   "outputs": [
    {
     "name": "stdout",
     "output_type": "stream",
     "text": [
      "Training...\n",
      "Total Reward: 44105.0, Accuracy: 0.9213248390190437\n",
      "Precision: 0.829583115297401\n",
      "Recall: 0.78275181040158\n",
      "F1 Score: 0.8054873401642815\n",
      "False Positive Rate: 0.04225778546712803\n"
     ]
    }
   ],
   "source": [
    "# Train the agent on the training environment\n",
    "train_agent(agent, train_env, replay_buffer, num_iterations=4000, verbose=False)\n",
    "\n",
    "# Test the agent on the testing environment\n",
    "test_agent(agent, test_env)"
   ]
  },
  {
   "cell_type": "code",
   "execution_count": 14,
   "id": "025ca776",
   "metadata": {},
   "outputs": [
    {
     "data": {
      "image/png": "[encoded data removed]",
      "text/plain": [
       "<Figure size 800x600 with 1 Axes>"
      ]
     },
     "metadata": {},
     "output_type": "display_data"
    },
    {
     "data": {
      "image/png": "[encoded data removed]",
      "text/plain": [
       "<Figure size 800x600 with 1 Axes>"
      ]
     },
     "metadata": {},
     "output_type": "display_data"
    }
   ],
   "source": [
    "import matplotlib.pyplot as plt\n",
    "from sklearn.metrics import roc_curve, auc, precision_recall_curve, average_precision_score\n",
    "\n",
    "\n",
    "model_name = \"DQN_Model\"\n",
    "\n",
    "# Gather a 'score' for each sample in test_df by using Q-value for action=1\n",
    "y_true = []\n",
    "scores = []  # We'll treat Q-value(action=1) as the confidence for label=1\n",
    "\n",
    "# Force deterministic (no epsilon)\n",
    "agent.epsilon = 0.0\n",
    "with torch.no_grad():\n",
    "    for i in range(len(test_df)):\n",
    "        row = test_df.iloc[i]\n",
    "        label = row['label']\n",
    "        # Extract features\n",
    "        state = row.drop('label').values.astype(np.float32)\n",
    "\n",
    "        # Get Q-values\n",
    "        state_tensor = torch.FloatTensor(state).unsqueeze(0)\n",
    "        q_values = agent.q_net(state_tensor)\n",
    "\n",
    "        # Score = Q-value for action=1\n",
    "        score_for_class1 = q_values[0, 1].item()\n",
    "\n",
    "        y_true.append(label)\n",
    "        scores.append(score_for_class1)\n",
    "\n",
    "y_true = np.array(y_true)\n",
    "scores = np.array(scores)\n",
    "\n",
    "# ROC Curve\n",
    "fpr, tpr, _ = roc_curve(y_true, scores)\n",
    "auc_score = auc(fpr, tpr)\n",
    "\n",
    "plt.figure(figsize=(8, 6))\n",
    "plt.plot(fpr, tpr, color='blue', label=f'ROC Curve (AUC = {auc_score:.2f})')\n",
    "plt.plot([0, 1], [0, 1], linestyle='--', color='gray')\n",
    "plt.xlabel('False Positive Rate')\n",
    "plt.ylabel('True Positive Rate')\n",
    "plt.title(f'ROC AUC Curve for {model_name}')\n",
    "plt.legend(loc='lower right')\n",
    "plt.show()\n",
    "\n",
    "# Precision-Recall Curve\n",
    "precision, recall, _ = precision_recall_curve(y_true, scores)\n",
    "avg_precision = average_precision_score(y_true, scores)\n",
    "\n",
    "plt.figure(figsize=(8, 6))\n",
    "plt.plot(recall, precision, color='blue',\n",
    "         label=f'Precision-Recall Curve (Avg Precision = {avg_precision:.2f})')\n",
    "plt.xlabel('Recall')\n",
    "plt.ylabel('Precision')\n",
    "plt.title(f'Precision-Recall Curve for {model_name}')\n",
    "plt.legend(loc='lower left')\n",
    "plt.show()"
   ]
  },
  {
   "cell_type": "markdown",
   "id": "d0a72234",
   "metadata": {},
   "source": [
    "Plotting to see if model is overfit or not"
   ]
  },
  {
   "cell_type": "code",
   "execution_count": 15,
   "id": "e80e3f20",
   "metadata": {},
   "outputs": [
    {
     "name": "stdout",
     "output_type": "stream",
     "text": [
      "Model saved as dqn_model.pth\n"
     ]
    }
   ],
   "source": [
    "torch.save(agent.q_net.state_dict(), \"dqn_model.pth\")\n",
    "print(\"Model saved as dqn_model.pth\")"
   ]
  },
  {
   "cell_type": "markdown",
   "id": "b2b725eb",
   "metadata": {},
   "source": [
    "Saving weights which should be used by dynamic model"
   ]
  }
 ],
 "metadata": {
  "kernelspec": {
   "display_name": "project_env",
   "language": "python",
   "name": "proj_env"
  },
  "language_info": {
   "codemirror_mode": {
    "name": "ipython",
    "version": 3
   },
   "file_extension": ".py",
   "mimetype": "text/x-python",
   "name": "python",
   "nbconvert_exporter": "python",
   "pygments_lexer": "ipython3",
   "version": "3.10.16"
  }
 },
 "nbformat": 4,
 "nbformat_minor": 5
}
