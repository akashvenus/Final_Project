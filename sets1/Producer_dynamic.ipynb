{
 "cells": [
  {
   "cell_type": "code",
   "execution_count": 1,
   "id": "62f5eaf9",
   "metadata": {},
   "outputs": [
    {
     "name": "stdout",
     "output_type": "stream",
     "text": [
      "Requirement already satisfied: kafka-python in c:\\users\\akash\\anaconda3\\envs\\proj_env\\lib\\site-packages (2.1.2)\n"
     ]
    }
   ],
   "source": [
    "# !pip install kafka-python"
   ]
  },
  {
   "cell_type": "code",
   "execution_count": 2,
   "id": "f3f4b048",
   "metadata": {},
   "outputs": [
    {
     "name": "stdout",
     "output_type": "stream",
     "text": [
      "Requirement already satisfied: tqdm in c:\\users\\akash\\anaconda3\\envs\\proj_env\\lib\\site-packages (4.67.1)\n",
      "Requirement already satisfied: colorama in c:\\users\\akash\\anaconda3\\envs\\proj_env\\lib\\site-packages (from tqdm) (0.4.6)\n"
     ]
    }
   ],
   "source": [
    "# !pip install tqdm"
   ]
  },
  {
   "cell_type": "code",
   "execution_count": 1,
   "id": "676fb1b4",
   "metadata": {},
   "outputs": [],
   "source": [
    "import pandas as pd\n",
    "from kafka import KafkaProducer\n",
    "from datetime import datetime\n",
    "from json import dumps\n",
    "from tqdm import tqdm"
   ]
  },
  {
   "cell_type": "code",
   "execution_count": 2,
   "id": "ae2905f7",
   "metadata": {},
   "outputs": [
    {
     "name": "stdout",
     "output_type": "stream",
     "text": [
      "Successfully connected to bootstrap server\n"
     ]
    }
   ],
   "source": [
    "producer = KafkaProducer(bootstrap_servers=['localhost:9092'],\n",
    "                         value_serializer=lambda x: \n",
    "                         dumps(x).encode('utf-8'))\n",
    "if producer.bootstrap_connected():\n",
    "    print(f\"Successfully connected to bootstrap server\")\n",
    "else:\n",
    "    print(\"Couldn't connect to bootstrap server.\")\n",
    "\n",
    "TOPIC_NAME = \"ml-raw-dns\""
   ]
  },
  {
   "cell_type": "code",
   "execution_count": 3,
   "id": "ce8bb86c",
   "metadata": {},
   "outputs": [],
   "source": [
    "def produce_message(producer_instance, topic, message):\n",
    "    producer_instance.send(topic, message)\n",
    "    producer_instance.flush()\n",
    "    return"
   ]
  },
  {
   "cell_type": "code",
   "execution_count": 4,
   "id": "9a1c01ee",
   "metadata": {},
   "outputs": [
    {
     "data": {
      "text/html": [
       "<div>\n",
       "<style scoped>\n",
       "    .dataframe tbody tr th:only-of-type {\n",
       "        vertical-align: middle;\n",
       "    }\n",
       "\n",
       "    .dataframe tbody tr th {\n",
       "        vertical-align: top;\n",
       "    }\n",
       "\n",
       "    .dataframe thead th {\n",
       "        text-align: right;\n",
       "    }\n",
       "</style>\n",
       "<table border=\"1\" class=\"dataframe\">\n",
       "  <thead>\n",
       "    <tr style=\"text-align: right;\">\n",
       "      <th></th>\n",
       "      <th>destination port</th>\n",
       "      <th>flow duration</th>\n",
       "      <th>total fwd packets</th>\n",
       "      <th>total backward packets</th>\n",
       "      <th>total length of fwd packets</th>\n",
       "      <th>total length of bwd packets</th>\n",
       "      <th>fwd packet length max</th>\n",
       "      <th>fwd packet length min</th>\n",
       "      <th>fwd packet length mean</th>\n",
       "      <th>fwd packet length std</th>\n",
       "      <th>...</th>\n",
       "      <th>min_seg_size_forward</th>\n",
       "      <th>active mean</th>\n",
       "      <th>active std</th>\n",
       "      <th>active max</th>\n",
       "      <th>active min</th>\n",
       "      <th>idle mean</th>\n",
       "      <th>idle std</th>\n",
       "      <th>idle max</th>\n",
       "      <th>idle min</th>\n",
       "      <th>label</th>\n",
       "    </tr>\n",
       "  </thead>\n",
       "  <tbody>\n",
       "    <tr>\n",
       "      <th>0</th>\n",
       "      <td>53</td>\n",
       "      <td>30449</td>\n",
       "      <td>1</td>\n",
       "      <td>1</td>\n",
       "      <td>49</td>\n",
       "      <td>93</td>\n",
       "      <td>49</td>\n",
       "      <td>49</td>\n",
       "      <td>49.000000</td>\n",
       "      <td>0.000000</td>\n",
       "      <td>...</td>\n",
       "      <td>20</td>\n",
       "      <td>0.0</td>\n",
       "      <td>0.0</td>\n",
       "      <td>0</td>\n",
       "      <td>0</td>\n",
       "      <td>0.0</td>\n",
       "      <td>0.0</td>\n",
       "      <td>0</td>\n",
       "      <td>0</td>\n",
       "      <td>0</td>\n",
       "    </tr>\n",
       "    <tr>\n",
       "      <th>1</th>\n",
       "      <td>443</td>\n",
       "      <td>297054</td>\n",
       "      <td>15</td>\n",
       "      <td>14</td>\n",
       "      <td>851</td>\n",
       "      <td>14141</td>\n",
       "      <td>373</td>\n",
       "      <td>0</td>\n",
       "      <td>56.733333</td>\n",
       "      <td>113.256010</td>\n",
       "      <td>...</td>\n",
       "      <td>32</td>\n",
       "      <td>0.0</td>\n",
       "      <td>0.0</td>\n",
       "      <td>0</td>\n",
       "      <td>0</td>\n",
       "      <td>0.0</td>\n",
       "      <td>0.0</td>\n",
       "      <td>0</td>\n",
       "      <td>0</td>\n",
       "      <td>0</td>\n",
       "    </tr>\n",
       "    <tr>\n",
       "      <th>2</th>\n",
       "      <td>53</td>\n",
       "      <td>75095647</td>\n",
       "      <td>2</td>\n",
       "      <td>2</td>\n",
       "      <td>115</td>\n",
       "      <td>242</td>\n",
       "      <td>58</td>\n",
       "      <td>57</td>\n",
       "      <td>57.500000</td>\n",
       "      <td>0.707107</td>\n",
       "      <td>...</td>\n",
       "      <td>32</td>\n",
       "      <td>50660.0</td>\n",
       "      <td>0.0</td>\n",
       "      <td>50660</td>\n",
       "      <td>50660</td>\n",
       "      <td>74900000.0</td>\n",
       "      <td>0.0</td>\n",
       "      <td>74900000</td>\n",
       "      <td>74900000</td>\n",
       "      <td>0</td>\n",
       "    </tr>\n",
       "    <tr>\n",
       "      <th>3</th>\n",
       "      <td>53</td>\n",
       "      <td>209</td>\n",
       "      <td>2</td>\n",
       "      <td>2</td>\n",
       "      <td>90</td>\n",
       "      <td>172</td>\n",
       "      <td>45</td>\n",
       "      <td>45</td>\n",
       "      <td>45.000000</td>\n",
       "      <td>0.000000</td>\n",
       "      <td>...</td>\n",
       "      <td>44</td>\n",
       "      <td>0.0</td>\n",
       "      <td>0.0</td>\n",
       "      <td>0</td>\n",
       "      <td>0</td>\n",
       "      <td>0.0</td>\n",
       "      <td>0.0</td>\n",
       "      <td>0</td>\n",
       "      <td>0</td>\n",
       "      <td>0</td>\n",
       "    </tr>\n",
       "    <tr>\n",
       "      <th>4</th>\n",
       "      <td>443</td>\n",
       "      <td>30184469</td>\n",
       "      <td>12</td>\n",
       "      <td>6</td>\n",
       "      <td>859</td>\n",
       "      <td>3157</td>\n",
       "      <td>373</td>\n",
       "      <td>0</td>\n",
       "      <td>71.583333</td>\n",
       "      <td>123.682481</td>\n",
       "      <td>...</td>\n",
       "      <td>32</td>\n",
       "      <td>167703.0</td>\n",
       "      <td>0.0</td>\n",
       "      <td>167703</td>\n",
       "      <td>167703</td>\n",
       "      <td>30000000.0</td>\n",
       "      <td>0.0</td>\n",
       "      <td>30000000</td>\n",
       "      <td>30000000</td>\n",
       "      <td>0</td>\n",
       "    </tr>\n",
       "  </tbody>\n",
       "</table>\n",
       "<p>5 rows × 79 columns</p>\n",
       "</div>"
      ],
      "text/plain": [
       "   destination port  flow duration  total fwd packets  total backward packets  \\\n",
       "0                53          30449                  1                       1   \n",
       "1               443         297054                 15                      14   \n",
       "2                53       75095647                  2                       2   \n",
       "3                53            209                  2                       2   \n",
       "4               443       30184469                 12                       6   \n",
       "\n",
       "   total length of fwd packets  total length of bwd packets  \\\n",
       "0                           49                           93   \n",
       "1                          851                        14141   \n",
       "2                          115                          242   \n",
       "3                           90                          172   \n",
       "4                          859                         3157   \n",
       "\n",
       "   fwd packet length max  fwd packet length min  fwd packet length mean  \\\n",
       "0                     49                     49               49.000000   \n",
       "1                    373                      0               56.733333   \n",
       "2                     58                     57               57.500000   \n",
       "3                     45                     45               45.000000   \n",
       "4                    373                      0               71.583333   \n",
       "\n",
       "   fwd packet length std  ...  min_seg_size_forward  active mean  active std  \\\n",
       "0               0.000000  ...                    20          0.0         0.0   \n",
       "1             113.256010  ...                    32          0.0         0.0   \n",
       "2               0.707107  ...                    32      50660.0         0.0   \n",
       "3               0.000000  ...                    44          0.0         0.0   \n",
       "4             123.682481  ...                    32     167703.0         0.0   \n",
       "\n",
       "   active max  active min   idle mean  idle std  idle max  idle min  label  \n",
       "0           0           0         0.0       0.0         0         0      0  \n",
       "1           0           0         0.0       0.0         0         0      0  \n",
       "2       50660       50660  74900000.0       0.0  74900000  74900000      0  \n",
       "3           0           0         0.0       0.0         0         0      0  \n",
       "4      167703      167703  30000000.0       0.0  30000000  30000000      0  \n",
       "\n",
       "[5 rows x 79 columns]"
      ]
     },
     "execution_count": 4,
     "metadata": {},
     "output_type": "execute_result"
    }
   ],
   "source": [
    "df = pd.read_csv(\"test.csv\")\n",
    "\n",
    "df.drop('Unnamed: 0', axis=1, inplace=True, errors='ignore')\n",
    "\n",
    "df['label'] = df['label'].apply(lambda x: 0 if x == 'BENIGN' else 1)\n",
    "\n",
    "# df = df.sample(frac=1, random_state=42).reset_index(drop=True)\n",
    "\n",
    "df.to_csv(\"new_test.csv\", index=False)\n",
    "\n",
    "df.head()"
   ]
  },
  {
   "cell_type": "code",
   "execution_count": 5,
   "id": "5a5194c5",
   "metadata": {},
   "outputs": [
    {
     "name": "stderr",
     "output_type": "stream",
     "text": [
      "42022it [01:22, 510.00it/s]"
     ]
    },
    {
     "name": "stdout",
     "output_type": "stream",
     "text": [
      "Batch took 0:01:22.455734 time for ingesting data\n",
      "Ingestion Completed\n"
     ]
    },
    {
     "name": "stderr",
     "output_type": "stream",
     "text": [
      "\n"
     ]
    }
   ],
   "source": [
    "with open(\"new_test.csv\") as f:\n",
    "    start_time = datetime.now()\n",
    "    for i, line in tqdm(enumerate(f)):\n",
    "        produce_message(producer_instance=producer, topic=TOPIC_NAME, message=line)\n",
    "    end_time = datetime.now()\n",
    "    print(f\"Batch took {end_time-start_time} time for ingesting data\")\n",
    "\n",
    "print(\"Ingestion Completed\")"
   ]
  },
  {
   "cell_type": "code",
   "execution_count": null,
   "id": "bded5feb",
   "metadata": {},
   "outputs": [],
   "source": []
  }
 ],
 "metadata": {
  "kernelspec": {
   "display_name": "project_env",
   "language": "python",
   "name": "proj_env"
  },
  "language_info": {
   "codemirror_mode": {
    "name": "ipython",
    "version": 3
   },
   "file_extension": ".py",
   "mimetype": "text/x-python",
   "name": "python",
   "nbconvert_exporter": "python",
   "pygments_lexer": "ipython3",
   "version": "3.10.16"
  }
 },
 "nbformat": 4,
 "nbformat_minor": 5
}
