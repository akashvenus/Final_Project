{
 "cells": [
  {
   "cell_type": "code",
   "execution_count": 1,
   "id": "62f5eaf9",
   "metadata": {},
   "outputs": [],
   "source": [
    "#!pip install kafka-python"
   ]
  },
  {
   "cell_type": "code",
   "execution_count": 2,
   "id": "f3f4b048",
   "metadata": {},
   "outputs": [],
   "source": [
    "#!pip install tqdm"
   ]
  },
  {
   "cell_type": "code",
   "execution_count": 3,
   "id": "676fb1b4",
   "metadata": {},
   "outputs": [],
   "source": [
    "import pandas as pd\n",
    "from kafka import KafkaProducer\n",
    "from datetime import datetime\n",
    "from json import dumps\n",
    "from tqdm import tqdm"
   ]
  },
  {
   "cell_type": "code",
   "execution_count": 4,
   "id": "ae2905f7",
   "metadata": {},
   "outputs": [
    {
     "name": "stdout",
     "output_type": "stream",
     "text": [
      "Successfully connected to bootstrap server\n"
     ]
    }
   ],
   "source": [
    "producer = KafkaProducer(bootstrap_servers=['localhost:9092'],\n",
    "                         value_serializer=lambda x: \n",
    "                         dumps(x).encode('utf-8'))\n",
    "if producer.bootstrap_connected():\n",
    "    print(f\"Successfully connected to bootstrap server\")\n",
    "else:\n",
    "    print(\"Couldn't connect to bootstrap server.\")\n",
    "\n",
    "TOPIC_NAME = \"ml-raw-dns\""
   ]
  },
  {
   "cell_type": "code",
   "execution_count": 5,
   "id": "ce8bb86c",
   "metadata": {},
   "outputs": [],
   "source": [
    "def produce_message(producer_instance, topic, message):\n",
    "    producer_instance.send(topic, message)\n",
    "    producer_instance.flush()\n",
    "    return"
   ]
  },
  {
   "cell_type": "code",
   "execution_count": 6,
   "id": "9a1c01ee",
   "metadata": {},
   "outputs": [
    {
     "name": "stdout",
     "output_type": "stream",
     "text": [
      "Dataset updated: dropped 'Unnamed: 0', converted labels, reshuffled rows.\n",
      "New shape: (53576, 70)\n",
      "   destination port  flow duration  total fwd packets  total backward packets  \\\n",
      "0                53          44717                  2                       2   \n",
      "1                80        8033638                  4                       0   \n",
      "2             59641        2087651                  1                       6   \n",
      "3               443       64147291                 28                      28   \n",
      "4                50       50462129                  8                       1   \n",
      "\n",
      "   total length of fwd packets  total length of bwd packets  \\\n",
      "0                           74                          154   \n",
      "1                           24                            0   \n",
      "2                            6                           36   \n",
      "3                         1450                        24412   \n",
      "4                         7300                            0   \n",
      "\n",
      "   fwd packet length max  fwd packet length min  fwd packet length mean  \\\n",
      "0                     37                     37               37.000000   \n",
      "1                      6                      6                6.000000   \n",
      "2                      6                      6                6.000000   \n",
      "3                    502                      0               51.785714   \n",
      "4                    273                      1              154.708595   \n",
      "\n",
      "   fwd packet length std  ...  min_seg_size_forward    active mean  \\\n",
      "0               0.000000  ...                    40       0.000000   \n",
      "1               0.000000  ...                    20     847.000000   \n",
      "2               0.000000  ...                    20       0.000000   \n",
      "3             134.313441  ...                    32  192462.000000   \n",
      "4             127.872900  ...                  -788   35051.141547   \n",
      "\n",
      "      active std  active max  active min     idle mean      idle std  \\\n",
      "0       0.000000           0           0  0.000000e+00  0.000000e+00   \n",
      "1       0.000000         847         847  8.032791e+06  0.000000e+00   \n",
      "2       0.000000           0           0  0.000000e+00  0.000000e+00   \n",
      "3  207615.036200      339268       45656  3.190000e+07  3.730000e+07   \n",
      "4  353807.913881       42287           0  3.774464e+07  1.364782e+07   \n",
      "\n",
      "   idle max  idle min  label  \n",
      "0         0         0      1  \n",
      "1   8032791   8032791      1  \n",
      "2         0         0      1  \n",
      "3  58200000   5516312      1  \n",
      "4  44383990     43833      1  \n",
      "\n",
      "[5 rows x 70 columns]\n"
     ]
    }
   ],
   "source": [
    "# Load\n",
    "df = pd.read_csv(\"combined_test_df.csv\")\n",
    "\n",
    "# Drop auto‑generated index column if present\n",
    "df.drop(columns=[\"Unnamed: 0\"], inplace=True, errors=\"ignore\")\n",
    "\n",
    "features_to_drop = [\n",
    "    'bwd psh flags', 'bwd urg flags', 'fwd avg bytes/bulk',\n",
    "    'fwd avg packets/bulk', 'fwd avg bulk rate', 'bwd avg bytes/bulk',\n",
    "    'bwd avg packets/bulk', 'bwd avg bulk rate', 'fwd header length.1'\n",
    "]\n",
    "\n",
    "df.drop(columns=features_to_drop, axis=1,inplace=True)\n",
    "\n",
    "# Convert labels to binary\n",
    "df[\"label\"] = df[\"label\"].apply(lambda x: 0 if x == \"BENIGN\" else 1)\n",
    "\n",
    "# Specify the top features exactly\n",
    "# best_features = [\n",
    "#     \"bwd packets/s\",\n",
    "#     \"destination port\",\n",
    "#     \"init_win_bytes_forward\",\n",
    "#     \"flow packets/s\",\n",
    "#     \"bwd packet length min\",\n",
    "#     \"down/up ratio\",\n",
    "#     \"psh flag count\",\n",
    "#     \"act_data_pkt_fwd\",\n",
    "#     \"total fwd packets\",\n",
    "#     \"subflow fwd bytes\",\n",
    "# ]\n",
    "\n",
    "# Shuffle and reset index\n",
    "df = df.sample(frac=1, random_state=42).reset_index(drop=True)\n",
    "\n",
    "# Save\n",
    "df.to_csv(\"combined_test_df_phase2.csv\", index=False)\n",
    "\n",
    "print(\"Dataset updated: dropped 'Unnamed: 0', converted labels, reshuffled rows.\")\n",
    "print(\"New shape:\", df.shape)\n",
    "print(df.head())"
   ]
  },
  {
   "cell_type": "code",
   "execution_count": 7,
   "id": "5a5194c5",
   "metadata": {},
   "outputs": [
    {
     "name": "stderr",
     "output_type": "stream",
     "text": [
      "53577it [04:11, 213.23it/s]"
     ]
    },
    {
     "name": "stdout",
     "output_type": "stream",
     "text": [
      "Batch took 0:04:11.462434 time for ingesting data\n",
      "Ingestion Completed\n"
     ]
    },
    {
     "name": "stderr",
     "output_type": "stream",
     "text": [
      "\n"
     ]
    }
   ],
   "source": [
    "with open(\"combined_test_df_phase2.csv\") as f:\n",
    "    start_time = datetime.now()\n",
    "    for i, line in tqdm(enumerate(f)):\n",
    "        produce_message(producer_instance=producer, topic=TOPIC_NAME, message=line)\n",
    "    end_time = datetime.now()\n",
    "    print(f\"Batch took {end_time-start_time} time for ingesting data\")\n",
    "\n",
    "print(\"Ingestion Completed\")"
   ]
  }
 ],
 "metadata": {
  "kernelspec": {
   "display_name": "venv",
   "language": "python",
   "name": "python3"
  },
  "language_info": {
   "codemirror_mode": {
    "name": "ipython",
    "version": 3
   },
   "file_extension": ".py",
   "mimetype": "text/x-python",
   "name": "python",
   "nbconvert_exporter": "python",
   "pygments_lexer": "ipython3",
   "version": "3.10.11"
  }
 },
 "nbformat": 4,
 "nbformat_minor": 5
}
