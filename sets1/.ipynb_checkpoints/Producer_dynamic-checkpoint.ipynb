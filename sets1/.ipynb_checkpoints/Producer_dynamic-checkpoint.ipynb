{
 "cells": [
  {
   "cell_type": "code",
   "execution_count": 1,
   "id": "62f5eaf9",
   "metadata": {},
   "outputs": [
    {
     "name": "stdout",
     "output_type": "stream",
     "text": [
      "Collecting kafka-python\n",
      "  Downloading kafka_python-2.1.2-py2.py3-none-any.whl.metadata (9.1 kB)\n",
      "Downloading kafka_python-2.1.2-py2.py3-none-any.whl (274 kB)\n",
      "Installing collected packages: kafka-python\n",
      "Successfully installed kafka-python-2.1.2\n"
     ]
    }
   ],
   "source": [
    "!pip install kafka-python"
   ]
  },
  {
   "cell_type": "code",
   "execution_count": 2,
   "id": "f3f4b048",
   "metadata": {},
   "outputs": [
    {
     "name": "stdout",
     "output_type": "stream",
     "text": [
      "Requirement already satisfied: tqdm in c:\\users\\akash\\anaconda3\\envs\\proj_env\\lib\\site-packages (4.67.1)\n",
      "Requirement already satisfied: colorama in c:\\users\\akash\\anaconda3\\envs\\proj_env\\lib\\site-packages (from tqdm) (0.4.6)\n"
     ]
    }
   ],
   "source": [
    "!pip install tqdm"
   ]
  },
  {
   "cell_type": "code",
   "execution_count": 3,
   "id": "676fb1b4",
   "metadata": {},
   "outputs": [],
   "source": [
    "import pandas as pd\n",
    "from kafka import KafkaProducer\n",
    "from datetime import datetime\n",
    "from json import dumps\n",
    "from tqdm import tqdm"
   ]
  },
  {
   "cell_type": "code",
   "execution_count": 5,
   "id": "ae2905f7",
   "metadata": {},
   "outputs": [
    {
     "name": "stdout",
     "output_type": "stream",
     "text": [
      "Successfully connected to bootstrap server\n"
     ]
    }
   ],
   "source": [
    "producer = KafkaProducer(bootstrap_servers=['localhost:9092'],\n",
    "                         value_serializer=lambda x: \n",
    "                         dumps(x).encode('utf-8'))\n",
    "if producer.bootstrap_connected():\n",
    "    print(f\"Successfully connected to bootstrap server\")\n",
    "else:\n",
    "    print(\"Couldn't connect to bootstrap server.\")\n",
    "\n",
    "TOPIC_NAME = \"ml-raw-dns\""
   ]
  },
  {
   "cell_type": "code",
   "execution_count": 6,
   "id": "ce8bb86c",
   "metadata": {},
   "outputs": [],
   "source": [
    "def produce_message(producer_instance, topic, message):\n",
    "    producer_instance.send(topic, message)\n",
    "    producer_instance.flush()\n",
    "    return"
   ]
  },
  {
   "cell_type": "code",
   "execution_count": 9,
   "id": "9a1c01ee",
   "metadata": {},
   "outputs": [
    {
     "name": "stdout",
     "output_type": "stream",
     "text": [
      "Dataset updated: dropped 'Unnamed: 0', converted labels, reshuffled rows.\n",
      "New shape: (53576, 79)\n",
      "   destination port  flow duration  total fwd packets  total backward packets  \\\n",
      "0             51878              4                  2                       0   \n",
      "1              4617             -4                  2                       1   \n",
      "2                80        5214413                  4                       2   \n",
      "3                80          25879                  2                       0   \n",
      "4                80       10424002                 40                      51   \n",
      "\n",
      "   total length of fwd packets  total length of bwd packets  \\\n",
      "0                          247                            0   \n",
      "1                           12                         1475   \n",
      "2                           12                            0   \n",
      "3                           12                            0   \n",
      "4                         2078                        87399   \n",
      "\n",
      "   fwd packet length max  fwd packet length min  fwd packet length mean  \\\n",
      "0                    216                     31              123.500000   \n",
      "1                      6                      1                0.100021   \n",
      "2                      6                      0                3.000000   \n",
      "3                      6                      6                6.000000   \n",
      "4                    318                      0               51.950000   \n",
      "\n",
      "   fwd packet length std  ...  min_seg_size_forward  active mean  active std  \\\n",
      "0             130.814754  ...                    20     0.000000         0.0   \n",
      "1               0.000000  ...                    67   772.570319         0.0   \n",
      "2               3.464102  ...                    20     0.000000         0.0   \n",
      "3               0.000000  ...                    20     0.000000         0.0   \n",
      "4             111.214957  ...                    20     0.000000         0.0   \n",
      "\n",
      "   active max  active min     idle mean    idle std  idle max  idle min  label  \n",
      "0           0           0      0.000000    0.000000         0         0      0  \n",
      "1           0           0  26531.147622  446.092501     12852     51685      1  \n",
      "2           0           0      0.000000    0.000000         0         0      0  \n",
      "3           0           0      0.000000    0.000000         0         0      0  \n",
      "4           0           0      0.000000    0.000000         0         0      0  \n",
      "\n",
      "[5 rows x 79 columns]\n"
     ]
    }
   ],
   "source": [
    "df = pd.read_csv(\"combined_test_df.csv\")\n",
    "\n",
    "df.drop('Unnamed: 0', axis=1, inplace=True, errors='ignore')\n",
    "\n",
    "df['label'] = df['label'].apply(lambda x: 0 if x == 'BENIGN' else 1)\n",
    "\n",
    "df = df.sample(frac=1, random_state=42).reset_index(drop=True)\n",
    "\n",
    "df.to_csv(\"combined_test_df.csv\", index=False)\n",
    "\n",
    "print(\"Dataset updated: dropped 'Unnamed: 0', converted labels, reshuffled rows.\")\n",
    "print(\"New shape:\", df.shape)\n",
    "print(df.head())"
   ]
  },
  {
   "cell_type": "code",
   "execution_count": 10,
   "id": "5a5194c5",
   "metadata": {},
   "outputs": [
    {
     "name": "stderr",
     "output_type": "stream",
     "text": [
      "53577it [04:34, 194.96it/s]"
     ]
    },
    {
     "name": "stdout",
     "output_type": "stream",
     "text": [
      "Batch took 0:04:35.718101 time for ingesting data\n",
      "Ingestion Completed\n"
     ]
    },
    {
     "name": "stderr",
     "output_type": "stream",
     "text": [
      "\n"
     ]
    }
   ],
   "source": [
    "with open(\"combined_test_df.csv\") as f:\n",
    "    start_time = datetime.now()\n",
    "    for i, line in tqdm(enumerate(f)):\n",
    "        produce_message(producer_instance=producer, topic=TOPIC_NAME, message=line)\n",
    "    end_time = datetime.now()\n",
    "    print(f\"Batch took {end_time-start_time} time for ingesting data\")\n",
    "\n",
    "print(\"Ingestion Completed\")"
   ]
  }
 ],
 "metadata": {
  "kernelspec": {
   "display_name": "Python 3 (ipykernel)",
   "language": "python",
   "name": "python3"
  },
  "language_info": {
   "codemirror_mode": {
    "name": "ipython",
    "version": 3
   },
   "file_extension": ".py",
   "mimetype": "text/x-python",
   "name": "python",
   "nbconvert_exporter": "python",
   "pygments_lexer": "ipython3",
   "version": "3.11.5"
  }
 },
 "nbformat": 4,
 "nbformat_minor": 5
}
