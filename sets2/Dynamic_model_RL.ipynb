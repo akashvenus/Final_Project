{
 "cells": [
  {
   "cell_type": "code",
   "execution_count": 122,
   "id": "b83a0c8d",
   "metadata": {},
   "outputs": [],
   "source": [
    "import pickle\n",
    "import joblib\n",
    "import torch\n",
    "import torch.nn as nn\n",
    "import torch.optim as optim\n",
    "import torch.nn.functional as F\n",
    "import pandas as pd\n",
    "import numpy as np\n",
    "import matplotlib.pyplot as plt\n",
    "from kafka import KafkaConsumer\n",
    "from sklearn.metrics import f1_score\n",
    "import copy\n",
    "import random\n",
    "import gym\n",
    "from sklearn.preprocessing import StandardScaler\n",
    "from collections import deque\n",
    "from sklearn.metrics import (f1_score, precision_score, recall_score, \n",
    "                             confusion_matrix, roc_curve, auc,\n",
    "                             precision_recall_curve, average_precision_score)"
   ]
  },
  {
   "cell_type": "code",
   "execution_count": 123,
   "id": "8b2c88e1",
   "metadata": {},
   "outputs": [],
   "source": [
    "with open('scaler.pkl', 'rb') as scaler_file:\n",
    "    scaler = joblib.load(scaler_file)"
   ]
  },
  {
   "cell_type": "code",
   "execution_count": 124,
   "id": "59f0406c",
   "metadata": {},
   "outputs": [
    {
     "name": "stdout",
     "output_type": "stream",
     "text": [
      "Successfully connected to Kafka broker\n"
     ]
    }
   ],
   "source": [
    "#Load data stream\n",
    "consumer = KafkaConsumer(\n",
    "    'ml-raw-dns',\n",
    "    bootstrap_servers=\"localhost:9092\",\n",
    "    auto_offset_reset='earliest',\n",
    "    enable_auto_commit=False,\n",
    "    consumer_timeout_ms=5000\n",
    ")\n",
    "\n",
    "if consumer.bootstrap_connected():\n",
    "    print(\"Successfully connected to Kafka broker\")\n",
    "else:\n",
    "    print(\"Couldn't connect to bootstrap server.\")"
   ]
  },
  {
   "cell_type": "code",
   "execution_count": 125,
   "id": "dd2a1589",
   "metadata": {},
   "outputs": [],
   "source": [
    "# ---------------------------\n",
    "# Custom Environment\n",
    "# ---------------------------\n",
    "class TabularClassificationEnv(gym.Env):\n",
    "    def __init__(self, df):\n",
    "        super(TabularClassificationEnv, self).__init__()\n",
    "        self.df = df.reset_index(drop=True)\n",
    "        self.current_index = 0\n",
    "\n",
    "        # Action space: two actions (0 and 1)\n",
    "        self.action_space = gym.spaces.Discrete(2)\n",
    "        # Observation space: features (assumes label is dropped)\n",
    "        num_features = df.shape[1] - 1\n",
    "        self.observation_space = gym.spaces.Box(\n",
    "            low=-np.inf, high=np.inf, shape=(num_features,), dtype=np.float32)\n",
    "\n",
    "    def reset(self):\n",
    "        self.current_index = 0\n",
    "        return self._get_observation()\n",
    "\n",
    "    def step(self, action):\n",
    "        if self.current_index >= len(self.df):\n",
    "            return self._get_observation(), 0.0, True, {}\n",
    "\n",
    "        # Retrieve the true label; assumes column name 'label'\n",
    "        true_label = self.df.iloc[self.current_index]['label']\n",
    "\n",
    "        # Modified reward structure:\n",
    "        # If the sample is positive (label == 1), reward correctly.\n",
    "        # Penalize misclassification more severely.\n",
    "        if action == true_label:\n",
    "            reward = 2.0 if true_label == 0 else 1.0\n",
    "        else:\n",
    "            reward = -3.0 if true_label == 1 else -1.0\n",
    "\n",
    "        self.current_index += 1\n",
    "        done = self.current_index >= len(self.df)\n",
    "        if done:\n",
    "            return self._get_observation(), reward, done, {}\n",
    "        else:\n",
    "            return self._get_observation(), reward, done, {}\n",
    "\n",
    "    def _get_observation(self):\n",
    "        if self.current_index < len(self.df):\n",
    "            row = self.df.iloc[self.current_index]\n",
    "            if 'label' in self.df.columns:\n",
    "                obs = row.drop('label').values.astype(np.float32)\n",
    "            else:\n",
    "                obs = row.values[:-1].astype(np.float32)\n",
    "            return obs\n",
    "        else:\n",
    "            return np.zeros(self.observation_space.shape, dtype=np.float32)"
   ]
  },
  {
   "cell_type": "code",
   "execution_count": 126,
   "id": "45304e53",
   "metadata": {},
   "outputs": [],
   "source": [
    "# ---------------------------\n",
    "# Q-Network Definition\n",
    "# ---------------------------\n",
    "class QNetwork(nn.Module):\n",
    "    def __init__(self, input_dim, output_dim, hidden_sizes=(32, 32)):\n",
    "        super(QNetwork, self).__init__()\n",
    "        layers = []\n",
    "        in_dim = input_dim\n",
    "        for h in hidden_sizes:\n",
    "            layers.append(nn.Linear(in_dim, h))\n",
    "            layers.append(nn.ReLU())\n",
    "            in_dim = h\n",
    "        layers.append(nn.Linear(in_dim, output_dim))\n",
    "        self.model = nn.Sequential(*layers)\n",
    "\n",
    "    def forward(self, x):\n",
    "        return self.model(x)"
   ]
  },
  {
   "cell_type": "code",
   "execution_count": 127,
   "id": "237167c5",
   "metadata": {},
   "outputs": [],
   "source": [
    "# ---------------------------\n",
    "# DQN Agent\n",
    "# ---------------------------\n",
    "class DQNAgent:\n",
    "    def __init__(self, obs_dim, action_dim, hidden_sizes=(32, 32), lr=1e-3,\n",
    "                 gamma=0.99, epsilon=0.1, device='cpu'):\n",
    "        self.q_net = QNetwork(obs_dim, action_dim, hidden_sizes).to(device)\n",
    "        self.optimizer = optim.Adam(self.q_net.parameters(), lr=lr)\n",
    "        self.gamma = gamma\n",
    "        self.epsilon = epsilon\n",
    "        self.action_dim = action_dim\n",
    "        self.device = device\n",
    "\n",
    "    def select_action(self, state):\n",
    "        # Epsilon-greedy action selection\n",
    "        if random.random() < self.epsilon:\n",
    "            return random.randint(0, self.action_dim - 1)\n",
    "        state_tensor = torch.FloatTensor(state).unsqueeze(0).to(self.device)\n",
    "        with torch.no_grad():\n",
    "            q_values = self.q_net(state_tensor)\n",
    "        return q_values.argmax().item()\n",
    "\n",
    "    def train_step(self, batch):\n",
    "        # Unpack a batch of transitions\n",
    "        states, actions, rewards, next_states, dones = zip(*batch)\n",
    "        states = torch.FloatTensor(np.array(states)).to(self.device)\n",
    "        actions = torch.LongTensor(actions).unsqueeze(1).to(self.device)\n",
    "        rewards = torch.FloatTensor(rewards).unsqueeze(1).to(self.device)\n",
    "        next_states = torch.FloatTensor(np.array(next_states)).to(self.device)\n",
    "        dones = torch.FloatTensor(dones).unsqueeze(1).to(self.device)\n",
    "\n",
    "        # Compute current Q-values for taken actions\n",
    "        q_values = self.q_net(states).gather(1, actions)\n",
    "        # Compute the next state's maximum Q-value\n",
    "        next_q_values = self.q_net(next_states).max(1)[0].unsqueeze(1)\n",
    "        # Compute TD target\n",
    "        target = rewards + self.gamma * next_q_values * (1 - dones)\n",
    "        loss = F.mse_loss(q_values, target)\n",
    "\n",
    "        self.optimizer.zero_grad()\n",
    "        loss.backward()\n",
    "        self.optimizer.step()\n",
    "        return loss.item()"
   ]
  },
  {
   "cell_type": "code",
   "execution_count": 128,
   "id": "828d04f4",
   "metadata": {},
   "outputs": [],
   "source": [
    "# ---------------------------\n",
    "# Simple Replay Buffer\n",
    "# ---------------------------\n",
    "class ReplayBuffer:\n",
    "    def __init__(self):\n",
    "        self.buffer = []\n",
    "\n",
    "    def add(self, transition):\n",
    "        self.buffer.append(transition)\n",
    "\n",
    "    def clear(self):\n",
    "        self.buffer = []\n",
    "\n",
    "    def sample_all(self):\n",
    "        return self.buffer.copy()\n",
    "\n",
    "    def __len__(self):\n",
    "        return len(self.buffer)"
   ]
  },
  {
   "cell_type": "code",
   "execution_count": 129,
   "id": "6820b6b7",
   "metadata": {},
   "outputs": [],
   "source": [
    "# ---------------------------\n",
    "# Training Function\n",
    "# ---------------------------\n",
    "def train_agent(agent, env, replay_buffer, num_iterations=1000, batch_size=32, verbose=True):\n",
    "    state = env.reset()\n",
    "    print(\"Training...\")\n",
    "    for i in range(num_iterations):\n",
    "        action = agent.select_action(state)\n",
    "        next_state, reward, done, _ = env.step(action)\n",
    "        replay_buffer.add((state, action, reward, next_state, float(done)))\n",
    "        state = next_state\n",
    "        if done:\n",
    "            state = env.reset()\n",
    "\n",
    "        # Train only if we have enough samples in the buffer\n",
    "        if len(replay_buffer) >= batch_size:\n",
    "            # Sample a mini-batch randomly from the replay buffer\n",
    "            batch = random.sample(replay_buffer.buffer, batch_size)\n",
    "            loss = agent.train_step(batch)\n",
    "            if i % 100 == 0 and verbose:\n",
    "                  print(f\"Iteration {i}, Loss: {loss}\")\n"
   ]
  },
  {
   "cell_type": "code",
   "execution_count": 130,
   "id": "1d401b6d",
   "metadata": {},
   "outputs": [],
   "source": [
    "feature_columns = scaler.feature_names_in_  # list of feature column names\n",
    "obs_dim = len(feature_columns)\n",
    "action_dim = 2  # binary classification\n",
    "\n",
    "# Instantiate the RL agent and load its weights from the .pth file\n",
    "dynamic_model = DQNAgent(obs_dim, action_dim, hidden_sizes=(128, 128), lr=0.001,\n",
    "                          gamma=0.99, epsilon=0.1, device='cpu')\n",
    "dynamic_model.q_net.load_state_dict(torch.load(\"dqn_model.pth\", map_location=torch.device(\"cpu\")))\n",
    "dynamic_model.q_net.eval()\n",
    "\n",
    "# Create a static copy of the RL agent (this one will not be updated)\n",
    "static_model = copy.deepcopy(dynamic_model)"
   ]
  },
  {
   "cell_type": "code",
   "execution_count": 131,
   "id": "8a2a4920",
   "metadata": {},
   "outputs": [
    {
     "name": "stdout",
     "output_type": "stream",
     "text": [
      "Starting to consume messages...\n",
      "Consumed 0 messages\n",
      "Consumed 100 messages\n",
      "Consumed 200 messages\n",
      "Consumed 300 messages\n",
      "Consumed 400 messages\n",
      "Consumed 500 messages\n",
      "Consumed 600 messages\n",
      "Consumed 700 messages\n",
      "Consumed 800 messages\n",
      "Consumed 900 messages\n",
      "\n",
      "Window complete:\n",
      "  Dynamic Model -> F1: 0.260, Precision: 0.381, Recall: 0.308, FPR: 0.877, ROC-AUC: 0.400\n",
      "  Static Model  -> F1: 0.263\n",
      "Dynamic model F1 (0.260) is below threshold. Retraining dynamic model on this window...\n",
      "Training...\n"
     ]
    },
    {
     "name": "stderr",
     "output_type": "stream",
     "text": [
      "d:\\Documents\\GitHub\\Final_Project\\venv\\lib\\site-packages\\sklearn\\utils\\validation.py:2739: UserWarning: X does not have valid feature names, but StandardScaler was fitted with feature names\n",
      "  warnings.warn(\n"
     ]
    },
    {
     "name": "stdout",
     "output_type": "stream",
     "text": [
      "Iteration 100, Loss: 2.6920342445373535\n",
      "Consumed 1000 messages\n",
      "Consumed 1100 messages\n",
      "Consumed 1200 messages\n",
      "Consumed 1300 messages\n",
      "Consumed 1400 messages\n",
      "Consumed 1500 messages\n",
      "Consumed 1600 messages\n",
      "Consumed 1700 messages\n",
      "Consumed 1800 messages\n",
      "Consumed 1900 messages\n",
      "\n",
      "Window complete:\n",
      "  Dynamic Model -> F1: 0.685, Precision: 0.714, Recall: 0.675, FPR: 0.324, ROC-AUC: 0.674\n",
      "  Static Model  -> F1: 0.251\n",
      "Dynamic model F1 (0.685) is below threshold. Retraining dynamic model on this window...\n",
      "Training...\n"
     ]
    },
    {
     "name": "stderr",
     "output_type": "stream",
     "text": [
      "d:\\Documents\\GitHub\\Final_Project\\venv\\lib\\site-packages\\sklearn\\utils\\validation.py:2739: UserWarning: X does not have valid feature names, but StandardScaler was fitted with feature names\n",
      "  warnings.warn(\n"
     ]
    },
    {
     "name": "stdout",
     "output_type": "stream",
     "text": [
      "Iteration 100, Loss: 3.5985255241394043\n",
      "Consumed 2000 messages\n",
      "Consumed 2100 messages\n",
      "Consumed 2200 messages\n",
      "Consumed 2300 messages\n",
      "Skipping row with invalid label: ['\"destination port', 'flow duration', 'total fwd packets', 'total backward packets', 'total length of fwd packets', 'total length of bwd packets', 'fwd packet length max', 'fwd packet length min', 'fwd packet length mean', 'fwd packet length std', 'bwd packet length max', 'bwd packet length min', 'bwd packet length mean', 'bwd packet length std', 'flow bytes/s', 'flow packets/s', 'flow iat mean', 'flow iat std', 'flow iat max', 'flow iat min', 'fwd iat total', 'fwd iat mean', 'fwd iat std', 'fwd iat max', 'fwd iat min', 'bwd iat total', 'bwd iat mean', 'bwd iat std', 'bwd iat max', 'bwd iat min', 'fwd psh flags', 'bwd psh flags', 'fwd urg flags', 'bwd urg flags', 'fwd header length', 'bwd header length', 'fwd packets/s', 'bwd packets/s', 'min packet length', 'max packet length', 'packet length mean', 'packet length std', 'packet length variance', 'fin flag count', 'syn flag count', 'rst flag count', 'psh flag count', 'ack flag count', 'urg flag count', 'cwe flag count', 'ece flag count', 'down/up ratio', 'average packet size', 'avg fwd segment size', 'avg bwd segment size', 'fwd header length.1', 'fwd avg bytes/bulk', 'fwd avg packets/bulk', 'fwd avg bulk rate', 'bwd avg bytes/bulk', 'bwd avg packets/bulk', 'bwd avg bulk rate', 'subflow fwd packets', 'subflow fwd bytes', 'subflow bwd packets', 'subflow bwd bytes', 'init_win_bytes_forward', 'init_win_bytes_backward', 'act_data_pkt_fwd', 'min_seg_size_forward', 'active mean', 'active std', 'active max', 'active min', 'idle mean', 'idle std', 'idle max', 'idle min', 'label\\\\n\"']\n",
      "Consumed 2400 messages\n",
      "Consumed 2500 messages\n",
      "Consumed 2600 messages\n",
      "Consumed 2700 messages\n",
      "Consumed 2800 messages\n",
      "Consumed 2900 messages\n",
      "Consumed 3000 messages\n",
      "\n",
      "Window complete:\n",
      "  Dynamic Model -> F1: 0.633, Precision: 0.781, Recall: 0.626, FPR: 0.503, ROC-AUC: 0.706\n",
      "  Static Model  -> F1: 0.259\n",
      "Dynamic model F1 (0.633) is below threshold. Retraining dynamic model on this window...\n",
      "Training...\n"
     ]
    },
    {
     "name": "stderr",
     "output_type": "stream",
     "text": [
      "d:\\Documents\\GitHub\\Final_Project\\venv\\lib\\site-packages\\sklearn\\utils\\validation.py:2739: UserWarning: X does not have valid feature names, but StandardScaler was fitted with feature names\n",
      "  warnings.warn(\n"
     ]
    },
    {
     "name": "stdout",
     "output_type": "stream",
     "text": [
      "Iteration 100, Loss: 2.318040132522583\n",
      "Consumed 3100 messages\n",
      "Consumed 3200 messages\n",
      "Consumed 3300 messages\n",
      "Consumed 3400 messages\n",
      "Consumed 3500 messages\n",
      "Consumed 3600 messages\n",
      "Consumed 3700 messages\n",
      "Consumed 3800 messages\n",
      "Consumed 3900 messages\n",
      "Consumed 4000 messages\n",
      "\n",
      "Window complete:\n",
      "  Dynamic Model -> F1: 0.706, Precision: 0.746, Recall: 0.698, FPR: 0.348, ROC-AUC: 0.719\n",
      "  Static Model  -> F1: 0.267\n",
      "Dynamic model F1 (0.706) is below threshold. Retraining dynamic model on this window...\n",
      "Training...\n"
     ]
    },
    {
     "name": "stderr",
     "output_type": "stream",
     "text": [
      "d:\\Documents\\GitHub\\Final_Project\\venv\\lib\\site-packages\\sklearn\\utils\\validation.py:2739: UserWarning: X does not have valid feature names, but StandardScaler was fitted with feature names\n",
      "  warnings.warn(\n"
     ]
    },
    {
     "name": "stdout",
     "output_type": "stream",
     "text": [
      "Iteration 100, Loss: 2.4802775382995605\n",
      "Consumed 4100 messages\n",
      "Consumed 4200 messages\n",
      "Consumed 4300 messages\n",
      "Consumed 4400 messages\n",
      "Consumed 4500 messages\n",
      "Consumed 4600 messages\n",
      "Consumed 4700 messages\n",
      "Consumed 4800 messages\n",
      "Consumed 4900 messages\n",
      "Consumed 5000 messages\n",
      "\n",
      "Window complete:\n",
      "  Dynamic Model -> F1: 0.679, Precision: 0.769, Recall: 0.670, FPR: 0.425, ROC-AUC: 0.721\n",
      "  Static Model  -> F1: 0.253\n",
      "Dynamic model F1 (0.679) is below threshold. Retraining dynamic model on this window...\n",
      "Training...\n"
     ]
    },
    {
     "name": "stderr",
     "output_type": "stream",
     "text": [
      "d:\\Documents\\GitHub\\Final_Project\\venv\\lib\\site-packages\\sklearn\\utils\\validation.py:2739: UserWarning: X does not have valid feature names, but StandardScaler was fitted with feature names\n",
      "  warnings.warn(\n"
     ]
    },
    {
     "name": "stdout",
     "output_type": "stream",
     "text": [
      "Iteration 100, Loss: 3.4130117893218994\n",
      "Consumed 5100 messages\n",
      "Consumed 5200 messages\n",
      "Consumed 5300 messages\n",
      "Consumed 5400 messages\n",
      "Consumed 5500 messages\n",
      "Consumed 5600 messages\n",
      "Consumed 5700 messages\n",
      "Consumed 5800 messages\n",
      "Consumed 5900 messages\n",
      "Consumed 6000 messages\n",
      "\n",
      "Window complete:\n",
      "  Dynamic Model -> F1: 0.694, Precision: 0.777, Recall: 0.687, FPR: 0.411, ROC-AUC: 0.735\n",
      "  Static Model  -> F1: 0.272\n",
      "Dynamic model F1 (0.694) is below threshold. Retraining dynamic model on this window...\n",
      "Training...\n"
     ]
    },
    {
     "name": "stderr",
     "output_type": "stream",
     "text": [
      "d:\\Documents\\GitHub\\Final_Project\\venv\\lib\\site-packages\\sklearn\\utils\\validation.py:2739: UserWarning: X does not have valid feature names, but StandardScaler was fitted with feature names\n",
      "  warnings.warn(\n"
     ]
    },
    {
     "name": "stdout",
     "output_type": "stream",
     "text": [
      "Iteration 100, Loss: 3.3700051307678223\n",
      "Consumed 6100 messages\n",
      "Consumed 6200 messages\n",
      "Consumed 6300 messages\n",
      "Consumed 6400 messages\n",
      "Consumed 6500 messages\n",
      "Consumed 6600 messages\n",
      "Consumed 6700 messages\n",
      "Consumed 6800 messages\n",
      "Consumed 6900 messages\n",
      "Consumed 7000 messages\n",
      "\n",
      "Window complete:\n",
      "  Dynamic Model -> F1: 0.714, Precision: 0.784, Recall: 0.708, FPR: 0.382, ROC-AUC: 0.749\n",
      "  Static Model  -> F1: 0.254\n",
      "Dynamic model F1 (0.714) is below threshold. Retraining dynamic model on this window...\n",
      "Training...\n"
     ]
    },
    {
     "name": "stderr",
     "output_type": "stream",
     "text": [
      "d:\\Documents\\GitHub\\Final_Project\\venv\\lib\\site-packages\\sklearn\\utils\\validation.py:2739: UserWarning: X does not have valid feature names, but StandardScaler was fitted with feature names\n",
      "  warnings.warn(\n"
     ]
    },
    {
     "name": "stdout",
     "output_type": "stream",
     "text": [
      "Iteration 100, Loss: 1.5533987283706665\n",
      "Consumed 7100 messages\n",
      "Consumed 7200 messages\n",
      "Consumed 7300 messages\n",
      "Consumed 7400 messages\n",
      "Consumed 7500 messages\n",
      "Consumed 7600 messages\n",
      "Consumed 7700 messages\n",
      "Consumed 7800 messages\n",
      "Consumed 7900 messages\n",
      "Consumed 8000 messages\n",
      "\n",
      "Window complete:\n",
      "  Dynamic Model -> F1: 0.676, Precision: 0.795, Recall: 0.666, FPR: 0.445, ROC-AUC: 0.735\n",
      "  Static Model  -> F1: 0.244\n",
      "Dynamic model F1 (0.676) is below threshold. Retraining dynamic model on this window...\n",
      "Training...\n"
     ]
    },
    {
     "name": "stderr",
     "output_type": "stream",
     "text": [
      "d:\\Documents\\GitHub\\Final_Project\\venv\\lib\\site-packages\\sklearn\\utils\\validation.py:2739: UserWarning: X does not have valid feature names, but StandardScaler was fitted with feature names\n",
      "  warnings.warn(\n"
     ]
    },
    {
     "name": "stdout",
     "output_type": "stream",
     "text": [
      "Iteration 100, Loss: 1.956963300704956\n",
      "Consumed 8100 messages\n",
      "Consumed 8200 messages\n",
      "Consumed 8300 messages\n",
      "Consumed 8400 messages\n",
      "Consumed 8500 messages\n",
      "Consumed 8600 messages\n",
      "Consumed 8700 messages\n",
      "Consumed 8800 messages\n",
      "Consumed 8900 messages\n",
      "Consumed 9000 messages\n",
      "\n",
      "Window complete:\n",
      "  Dynamic Model -> F1: 0.683, Precision: 0.754, Recall: 0.674, FPR: 0.400, ROC-AUC: 0.713\n",
      "  Static Model  -> F1: 0.253\n",
      "Dynamic model F1 (0.683) is below threshold. Retraining dynamic model on this window...\n",
      "Training...\n"
     ]
    },
    {
     "name": "stderr",
     "output_type": "stream",
     "text": [
      "d:\\Documents\\GitHub\\Final_Project\\venv\\lib\\site-packages\\sklearn\\utils\\validation.py:2739: UserWarning: X does not have valid feature names, but StandardScaler was fitted with feature names\n",
      "  warnings.warn(\n"
     ]
    },
    {
     "name": "stdout",
     "output_type": "stream",
     "text": [
      "Iteration 100, Loss: 1.325681447982788\n",
      "Consumed 9100 messages\n",
      "Consumed 9200 messages\n",
      "Consumed 9300 messages\n",
      "Consumed 9400 messages\n",
      "Consumed 9500 messages\n",
      "Consumed 9600 messages\n",
      "Consumed 9700 messages\n",
      "Consumed 9800 messages\n",
      "Consumed 9900 messages\n",
      "Consumed 10000 messages\n",
      "\n",
      "Window complete:\n",
      "  Dynamic Model -> F1: 0.730, Precision: 0.771, Recall: 0.724, FPR: 0.334, ROC-AUC: 0.748\n",
      "  Static Model  -> F1: 0.259\n",
      "Dynamic model F1 (0.730) is below threshold. Retraining dynamic model on this window...\n",
      "Training...\n"
     ]
    },
    {
     "name": "stderr",
     "output_type": "stream",
     "text": [
      "d:\\Documents\\GitHub\\Final_Project\\venv\\lib\\site-packages\\sklearn\\utils\\validation.py:2739: UserWarning: X does not have valid feature names, but StandardScaler was fitted with feature names\n",
      "  warnings.warn(\n"
     ]
    },
    {
     "name": "stdout",
     "output_type": "stream",
     "text": [
      "Iteration 100, Loss: 1.4524613618850708\n",
      "Consumed 10100 messages\n",
      "Consumed 10200 messages\n",
      "Consumed 10300 messages\n",
      "Consumed 10400 messages\n",
      "Consumed 10500 messages\n",
      "Consumed 10600 messages\n",
      "Consumed 10700 messages\n",
      "Consumed 10800 messages\n",
      "Consumed 10900 messages\n",
      "Consumed 11000 messages\n",
      "\n",
      "Window complete:\n",
      "  Dynamic Model -> F1: 0.734, Precision: 0.749, Recall: 0.728, FPR: 0.271, ROC-AUC: 0.728\n",
      "  Static Model  -> F1: 0.250\n",
      "Dynamic model F1 (0.734) is below threshold. Retraining dynamic model on this window...\n",
      "Training...\n"
     ]
    },
    {
     "name": "stderr",
     "output_type": "stream",
     "text": [
      "d:\\Documents\\GitHub\\Final_Project\\venv\\lib\\site-packages\\sklearn\\utils\\validation.py:2739: UserWarning: X does not have valid feature names, but StandardScaler was fitted with feature names\n",
      "  warnings.warn(\n"
     ]
    },
    {
     "name": "stdout",
     "output_type": "stream",
     "text": [
      "Iteration 100, Loss: 2.2758278846740723\n",
      "Consumed 11100 messages\n",
      "Consumed 11200 messages\n",
      "Consumed 11300 messages\n",
      "Consumed 11400 messages\n",
      "Consumed 11500 messages\n",
      "Consumed 11600 messages\n",
      "Consumed 11700 messages\n",
      "Consumed 11800 messages\n",
      "Consumed 11900 messages\n",
      "Consumed 12000 messages\n",
      "\n",
      "Window complete:\n",
      "  Dynamic Model -> F1: 0.711, Precision: 0.725, Recall: 0.705, FPR: 0.279, ROC-AUC: 0.698\n",
      "  Static Model  -> F1: 0.256\n",
      "Dynamic model F1 (0.711) is below threshold. Retraining dynamic model on this window...\n",
      "Training...\n"
     ]
    },
    {
     "name": "stderr",
     "output_type": "stream",
     "text": [
      "d:\\Documents\\GitHub\\Final_Project\\venv\\lib\\site-packages\\sklearn\\utils\\validation.py:2739: UserWarning: X does not have valid feature names, but StandardScaler was fitted with feature names\n",
      "  warnings.warn(\n"
     ]
    },
    {
     "name": "stdout",
     "output_type": "stream",
     "text": [
      "Iteration 100, Loss: 2.313153028488159\n",
      "Consumed 12100 messages\n",
      "Consumed 12200 messages\n",
      "Consumed 12300 messages\n",
      "Consumed 12400 messages\n",
      "Consumed 12500 messages\n",
      "Consumed 12600 messages\n",
      "Consumed 12700 messages\n",
      "Consumed 12800 messages\n",
      "Consumed 12900 messages\n",
      "Consumed 13000 messages\n",
      "\n",
      "Window complete:\n",
      "  Dynamic Model -> F1: 0.704, Precision: 0.731, Recall: 0.695, FPR: 0.314, ROC-AUC: 0.700\n",
      "  Static Model  -> F1: 0.256\n",
      "Dynamic model F1 (0.704) is below threshold. Retraining dynamic model on this window...\n",
      "Training...\n"
     ]
    },
    {
     "name": "stderr",
     "output_type": "stream",
     "text": [
      "d:\\Documents\\GitHub\\Final_Project\\venv\\lib\\site-packages\\sklearn\\utils\\validation.py:2739: UserWarning: X does not have valid feature names, but StandardScaler was fitted with feature names\n",
      "  warnings.warn(\n"
     ]
    },
    {
     "name": "stdout",
     "output_type": "stream",
     "text": [
      "Iteration 100, Loss: 2.6727561950683594\n",
      "Consumed 13100 messages\n",
      "Consumed 13200 messages\n",
      "Consumed 13300 messages\n",
      "Consumed 13400 messages\n",
      "Consumed 13500 messages\n",
      "Consumed 13600 messages\n",
      "Consumed 13700 messages\n",
      "Consumed 13800 messages\n",
      "Consumed 13900 messages\n",
      "Consumed 14000 messages\n",
      "\n",
      "Window complete:\n",
      "  Dynamic Model -> F1: 0.712, Precision: 0.742, Recall: 0.703, FPR: 0.313, ROC-AUC: 0.711\n",
      "  Static Model  -> F1: 0.267\n",
      "Dynamic model F1 (0.712) is below threshold. Retraining dynamic model on this window...\n",
      "Training...\n"
     ]
    },
    {
     "name": "stderr",
     "output_type": "stream",
     "text": [
      "d:\\Documents\\GitHub\\Final_Project\\venv\\lib\\site-packages\\sklearn\\utils\\validation.py:2739: UserWarning: X does not have valid feature names, but StandardScaler was fitted with feature names\n",
      "  warnings.warn(\n"
     ]
    },
    {
     "name": "stdout",
     "output_type": "stream",
     "text": [
      "Iteration 100, Loss: 2.3294551372528076\n",
      "Consumed 14100 messages\n",
      "Consumed 14200 messages\n",
      "Consumed 14300 messages\n",
      "Consumed 14400 messages\n",
      "Consumed 14500 messages\n",
      "Consumed 14600 messages\n",
      "Consumed 14700 messages\n",
      "Consumed 14800 messages\n",
      "Consumed 14900 messages\n",
      "Consumed 15000 messages\n",
      "\n",
      "Window complete:\n",
      "  Dynamic Model -> F1: 0.695, Precision: 0.742, Recall: 0.685, FPR: 0.357, ROC-AUC: 0.708\n",
      "  Static Model  -> F1: 0.271\n",
      "Dynamic model F1 (0.695) is below threshold. Retraining dynamic model on this window...\n",
      "Training...\n"
     ]
    },
    {
     "name": "stderr",
     "output_type": "stream",
     "text": [
      "d:\\Documents\\GitHub\\Final_Project\\venv\\lib\\site-packages\\sklearn\\utils\\validation.py:2739: UserWarning: X does not have valid feature names, but StandardScaler was fitted with feature names\n",
      "  warnings.warn(\n"
     ]
    },
    {
     "name": "stdout",
     "output_type": "stream",
     "text": [
      "Iteration 100, Loss: 2.8692378997802734\n",
      "Reached max window steps (15). Exiting...\n",
      "Finished streaming from Kafka or timed out.\n"
     ]
    }
   ],
   "source": [
    "static_scaler = scaler\n",
    "dynamic_scaler = copy.deepcopy(scaler)\n",
    "\n",
    "window_size = 1000\n",
    "max_window_steps = 15\n",
    "window_count = 0\n",
    "window_data = deque(maxlen=window_size)\n",
    "\n",
    "dynamic_model_f1 = []\n",
    "static_model_f1 = []\n",
    "\n",
    "ema_alpha = 0.3\n",
    "\n",
    "print(\"Starting to consume messages...\")\n",
    "\n",
    "for idx, message in enumerate(consumer):\n",
    "    # Decode and split the incoming message\n",
    "    row = message.value.decode().strip().split(',')\n",
    "    \n",
    "    try:\n",
    "        row_df = pd.DataFrame([row], columns=[*feature_columns, 'label'])\n",
    "    except ValueError:\n",
    "        print(f\"Skipping invalid row: {row}\")\n",
    "        continue\n",
    "    \n",
    "    if 'Unnamed: 0' in row_df.columns:\n",
    "        row_df.drop('Unnamed: 0', axis=1, inplace=True)\n",
    "    \n",
    "    if 'label' in row_df.columns:\n",
    "        row_df['label'] = row_df['label'].apply(lambda x: x.strip().replace('\\\\n\"', '').replace('\"', ''))\n",
    "        # Ensure the 'label' column contains valid integers\n",
    "        row_df = row_df[pd.to_numeric(row_df['label'], errors='coerce').notnull()]\n",
    "        if row_df.empty:\n",
    "            print(f\"Skipping row with invalid label: {row}\")\n",
    "            continue\n",
    "        row_df['label'] = row_df['label'].astype(int)\n",
    "    \n",
    "    for col in feature_columns:\n",
    "        row_df[col] = pd.to_numeric(row_df[col], errors='coerce').fillna(0)\n",
    "    \n",
    "    X_new_dynamic = dynamic_scaler.transform(row_df[feature_columns])\n",
    "    X_new_static = static_scaler.transform(row_df[feature_columns])\n",
    "\n",
    "    y_new = int(row_df['label'].values[0])\n",
    "\n",
    "    dynamic_state = X_new_dynamic[0]\n",
    "    static_state  = X_new_static[0]\n",
    "\n",
    "    dynamic_pred = dynamic_model.select_action(dynamic_state)\n",
    "    static_pred  = static_model.select_action(static_state)\n",
    "    window_data.append((dynamic_state, y_new, dynamic_pred, static_pred))\n",
    "    \n",
    "    if idx % 100 == 0:\n",
    "        print(f\"Consumed {idx} messages\")\n",
    "    \n",
    "    if len(window_data) == window_size:\n",
    "        # Extract ground truth and predictions from the window\n",
    "        y_true = [entry[1] for entry in window_data]\n",
    "        dynamic_preds = [entry[2] for entry in window_data]\n",
    "        static_preds = [entry[3] for entry in window_data]\n",
    "        \n",
    "        # Compute the weighted F1-score\n",
    "        current_dynamic_f1 = f1_score(y_true, dynamic_preds, average='weighted')\n",
    "        current_static_f1 = f1_score(y_true, static_preds, average='weighted')\n",
    "\n",
    "        current_dynamic_precision = precision_score(y_true, dynamic_preds, average='weighted')\n",
    "        current_dynamic_recall = recall_score(y_true, dynamic_preds, average='weighted')\n",
    "\n",
    "        cm = confusion_matrix(y_true, dynamic_preds)\n",
    "\n",
    "        if cm.shape == (2, 2):\n",
    "            TN, FP, FN, TP = cm.ravel()\n",
    "            false_positive_rate = FP / (FP + TN) if (FP + TN) > 0 else 0\n",
    "        else:\n",
    "            false_positive_rate = None\n",
    "\n",
    "        try:\n",
    "            fpr, tpr, _ = roc_curve(y_true, dynamic_preds)\n",
    "            roc_auc = auc(fpr, tpr)\n",
    "        except Exception:\n",
    "            roc_auc = None\n",
    "\n",
    "        print(f\"\\nWindow complete:\")\n",
    "        print(f\"  Dynamic Model -> F1: {current_dynamic_f1:.3f}, Precision: {current_dynamic_precision:.3f}, Recall: {current_dynamic_recall:.3f}, \", end='')\n",
    "        if false_positive_rate is not None:\n",
    "            print(f\"FPR: {false_positive_rate:.3f}, ROC-AUC: {roc_auc:.3f}\")\n",
    "        else:\n",
    "            print(f\"ROC-AUC: {roc_auc:.3f}\")\n",
    "        print(f\"  Static Model  -> F1: {current_static_f1:.3f}\")\n",
    "        \n",
    "        dynamic_model_f1.append(current_dynamic_f1)\n",
    "        static_model_f1.append(current_static_f1)\n",
    "\n",
    "        # Retrain if the F1-score is below the threshold and we haven't exceeded max retrains\n",
    "        if current_dynamic_f1 < 0.75:\n",
    "            print(f\"Dynamic model F1 ({current_dynamic_f1:.3f}) is below threshold. Retraining dynamic model on this window...\")\n",
    "            X_window = np.array([entry[0] for entry in window_data])\n",
    "            y_window = np.array([entry[1] for entry in window_data])\n",
    "\n",
    "            X_window_df = pd.DataFrame(X_window, columns=feature_columns)\n",
    "\n",
    "            new_scaler = StandardScaler().fit(X_window_df)\n",
    "            dynamic_scaler.mean_  = (1 - ema_alpha) * dynamic_scaler.mean_ + ema_alpha * new_scaler.mean_\n",
    "            dynamic_scaler.scale_ = (1 - ema_alpha) * dynamic_scaler.scale_ + ema_alpha * new_scaler.scale_\n",
    "\n",
    "            X_window_scaled = dynamic_scaler.transform(X_window)\n",
    "\n",
    "            # Ensure the data used to fit the scaler matches the feature columns\n",
    "            X_window_df = pd.DataFrame(X_window_scaled, columns=feature_columns)\n",
    "            X_window_df['label'] = y_window\n",
    "            window_env = TabularClassificationEnv(X_window_df)\n",
    "\n",
    "            window_replay_buffer = ReplayBuffer()\n",
    "\n",
    "            dynamic_model.q_net.train()\n",
    "            train_agent(dynamic_model, window_env, window_replay_buffer, num_iterations=200, batch_size=32, verbose=True)\n",
    "            dynamic_model.q_net.eval()\n",
    "\n",
    "        # Clear the window for the next batch\n",
    "        window_data.clear()\n",
    "        window_count += 1\n",
    "        if window_count >= max_window_steps:\n",
    "            print(f\"Reached max window steps ({max_window_steps}). Exiting...\")\n",
    "            break\n",
    "\n",
    "print(\"Finished streaming from Kafka or timed out.\")"
   ]
  },
  {
   "cell_type": "code",
   "execution_count": 133,
   "id": "ea5d5995",
   "metadata": {},
   "outputs": [
    {
     "data": {
      "image/png": "[encoded data removed]",
      "text/plain": [
       "<Figure size 1000x600 with 1 Axes>"
      ]
     },
     "metadata": {},
     "output_type": "display_data"
    }
   ],
   "source": [
    "import matplotlib.pyplot as plt\n",
    "\n",
    "# Plotting F1 scores per window\n",
    "plt.figure(figsize=(10, 6))\n",
    "plt.plot(dynamic_model_f1, label='Dynamic Model F1 Score', marker='o')\n",
    "plt.plot(static_model_f1, label='Static Model F1 Score', marker='x')\n",
    "plt.xlabel('Window Number')\n",
    "plt.ylabel('F1 Score')\n",
    "plt.title('F1 Score per Window')\n",
    "plt.legend()\n",
    "plt.grid(True)\n",
    "plt.show()\n"
   ]
  }
 ],
 "metadata": {
  "kernelspec": {
   "display_name": "venv",
   "language": "python",
   "name": "python3"
  },
  "language_info": {
   "codemirror_mode": {
    "name": "ipython",
    "version": 3
   },
   "file_extension": ".py",
   "mimetype": "text/x-python",
   "name": "python",
   "nbconvert_exporter": "python",
   "pygments_lexer": "ipython3",
   "version": "3.10.11"
  }
 },
 "nbformat": 4,
 "nbformat_minor": 5
}
