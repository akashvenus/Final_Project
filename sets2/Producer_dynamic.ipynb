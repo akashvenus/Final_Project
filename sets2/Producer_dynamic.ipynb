{
 "cells": [
  {
   "cell_type": "code",
   "execution_count": 1,
   "id": "62f5eaf9",
   "metadata": {},
   "outputs": [],
   "source": [
    "#!pip install kafka-python"
   ]
  },
  {
   "cell_type": "code",
   "execution_count": 2,
   "id": "f3f4b048",
   "metadata": {},
   "outputs": [],
   "source": [
    "#!pip install tqdm"
   ]
  },
  {
   "cell_type": "code",
   "execution_count": 3,
   "id": "676fb1b4",
   "metadata": {},
   "outputs": [],
   "source": [
    "import pandas as pd\n",
    "from kafka import KafkaProducer\n",
    "from datetime import datetime\n",
    "from json import dumps\n",
    "from tqdm import tqdm"
   ]
  },
  {
   "cell_type": "code",
   "execution_count": 4,
   "id": "ae2905f7",
   "metadata": {},
   "outputs": [
    {
     "name": "stdout",
     "output_type": "stream",
     "text": [
      "Successfully connected to bootstrap server\n"
     ]
    }
   ],
   "source": [
    "producer = KafkaProducer(bootstrap_servers=['localhost:9092'],\n",
    "                         value_serializer=lambda x: \n",
    "                         dumps(x).encode('utf-8'))\n",
    "if producer.bootstrap_connected():\n",
    "    print(f\"Successfully connected to bootstrap server\")\n",
    "else:\n",
    "    print(\"Couldn't connect to bootstrap server.\")\n",
    "\n",
    "TOPIC_NAME = \"ml-raw-dns\""
   ]
  },
  {
   "cell_type": "code",
   "execution_count": 5,
   "id": "ce8bb86c",
   "metadata": {},
   "outputs": [],
   "source": [
    "def produce_message(producer_instance, topic, message):\n",
    "    producer_instance.send(topic, message)\n",
    "    producer_instance.flush()\n",
    "    return"
   ]
  },
  {
   "cell_type": "code",
   "execution_count": 6,
   "id": "9a1c01ee",
   "metadata": {},
   "outputs": [
    {
     "name": "stdout",
     "output_type": "stream",
     "text": [
      "Dataset updated: dropped 'Unnamed: 0', converted labels, reshuffled rows.\n",
      "New shape: (94615, 79)\n",
      "   destination port  flow duration  total fwd packets  total backward packets  \\\n",
      "0             44018          39970                  3                       1   \n",
      "1                53          31148                  2                       2   \n",
      "2               443       64999522                 30                      19   \n",
      "3                80          59720                  3                       2   \n",
      "4                80      103702830                 15                       3   \n",
      "\n",
      "   total length of fwd packets  total length of bwd packets  \\\n",
      "0                          108                            6   \n",
      "1                           56                           88   \n",
      "2                         4480                         7625   \n",
      "3                          430                          110   \n",
      "4                         2541                            6   \n",
      "\n",
      "   fwd packet length max  fwd packet length min  fwd packet length mean  \\\n",
      "0                     77                      0               36.000000   \n",
      "1                     28                     28               28.000000   \n",
      "2                    625                      0              149.333333   \n",
      "3                    430                      0              143.333333   \n",
      "4                    231                      0              169.400000   \n",
      "\n",
      "   fwd packet length std  ...  min_seg_size_forward   active mean  \\\n",
      "0              38.742741  ...                    32  0.000000e+00   \n",
      "1               0.000000  ...                    32  0.000000e+00   \n",
      "2             233.264883  ...                    32  8.080553e+05   \n",
      "3             248.260616  ...                    20  0.000000e+00   \n",
      "4             105.737411  ...                    32  3.708138e+06   \n",
      "\n",
      "     active std  active max  active min     idle mean      idle std  idle max  \\\n",
      "0  0.000000e+00           0           0  0.000000e+00  0.000000e+00         0   \n",
      "1  0.000000e+00           0           0  0.000000e+00  0.000000e+00         0   \n",
      "2  1.855131e+06     4594825       50644  1.002518e+07  6.419262e+03  10029337   \n",
      "3  0.000000e+00           0           0  0.000000e+00  0.000000e+00         0   \n",
      "4  5.243380e+06     7415768         509  1.930000e+07  1.880000e+07  51400000   \n",
      "\n",
      "   idle min  label  \n",
      "0         0      0  \n",
      "1         0      0  \n",
      "2  10015688      0  \n",
      "3         0      0  \n",
      "4   5904054      1  \n",
      "\n",
      "[5 rows x 79 columns]\n"
     ]
    }
   ],
   "source": [
    "df = pd.read_csv(\"combined_test_df.csv\")\n",
    "\n",
    "df.drop('Unnamed: 0', axis=1, inplace=True, errors='ignore')\n",
    "\n",
    "df['label'] = df['label'].apply(lambda x: 0 if x == 'BENIGN' else 1)\n",
    "\n",
    "df = df.sample(frac=1, random_state=42).reset_index(drop=True)\n",
    "\n",
    "df.to_csv(\"combined_test_df.csv\", index=False)\n",
    "\n",
    "print(\"Dataset updated: dropped 'Unnamed: 0', converted labels, reshuffled rows.\")\n",
    "print(\"New shape:\", df.shape)\n",
    "print(df.head())"
   ]
  },
  {
   "cell_type": "code",
   "execution_count": 7,
   "id": "5a5194c5",
   "metadata": {},
   "outputs": [
    {
     "name": "stderr",
     "output_type": "stream",
     "text": [
      "94616it [09:10, 171.92it/s]"
     ]
    },
    {
     "name": "stdout",
     "output_type": "stream",
     "text": [
      "Batch took 0:09:10.461012 time for ingesting data\n",
      "Ingestion Completed\n"
     ]
    },
    {
     "name": "stderr",
     "output_type": "stream",
     "text": [
      "\n"
     ]
    }
   ],
   "source": [
    "with open(\"combined_test_df.csv\") as f:\n",
    "    start_time = datetime.now()\n",
    "    for i, line in tqdm(enumerate(f)):\n",
    "        produce_message(producer_instance=producer, topic=TOPIC_NAME, message=line)\n",
    "    end_time = datetime.now()\n",
    "    print(f\"Batch took {end_time-start_time} time for ingesting data\")\n",
    "\n",
    "print(\"Ingestion Completed\")"
   ]
  }
 ],
 "metadata": {
  "kernelspec": {
   "display_name": "venv",
   "language": "python",
   "name": "python3"
  },
  "language_info": {
   "codemirror_mode": {
    "name": "ipython",
    "version": 3
   },
   "file_extension": ".py",
   "mimetype": "text/x-python",
   "name": "python",
   "nbconvert_exporter": "python",
   "pygments_lexer": "ipython3",
   "version": "3.10.11"
  }
 },
 "nbformat": 4,
 "nbformat_minor": 5
}
