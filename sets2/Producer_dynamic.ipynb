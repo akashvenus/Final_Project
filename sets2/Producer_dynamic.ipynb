{
 "cells": [
  {
   "cell_type": "code",
   "execution_count": 1,
   "id": "62f5eaf9",
   "metadata": {},
   "outputs": [
    {
     "name": "stdout",
     "output_type": "stream",
     "text": [
      "Requirement already satisfied: kafka-python in c:\\users\\akash\\anaconda3\\envs\\proj_env\\lib\\site-packages (2.1.2)\n"
     ]
    }
   ],
   "source": [
    "# !pip install kafka-python"
   ]
  },
  {
   "cell_type": "code",
   "execution_count": 2,
   "id": "f3f4b048",
   "metadata": {},
   "outputs": [
    {
     "name": "stdout",
     "output_type": "stream",
     "text": [
      "Requirement already satisfied: tqdm in c:\\users\\akash\\anaconda3\\envs\\proj_env\\lib\\site-packages (4.67.1)\n",
      "Requirement already satisfied: colorama in c:\\users\\akash\\anaconda3\\envs\\proj_env\\lib\\site-packages (from tqdm) (0.4.6)\n"
     ]
    }
   ],
   "source": [
    "# !pip install tqdm"
   ]
  },
  {
   "cell_type": "code",
   "execution_count": 1,
   "id": "676fb1b4",
   "metadata": {},
   "outputs": [],
   "source": [
    "import pandas as pd\n",
    "from kafka import KafkaProducer\n",
    "from datetime import datetime\n",
    "from json import dumps\n",
    "from tqdm import tqdm"
   ]
  },
  {
   "cell_type": "code",
   "execution_count": 2,
   "id": "ae2905f7",
   "metadata": {},
   "outputs": [
    {
     "name": "stdout",
     "output_type": "stream",
     "text": [
      "Successfully connected to bootstrap server\n"
     ]
    }
   ],
   "source": [
    "producer = KafkaProducer(bootstrap_servers=['localhost:9092'],\n",
    "                         value_serializer=lambda x: \n",
    "                         dumps(x).encode('utf-8'))\n",
    "if producer.bootstrap_connected():\n",
    "    print(f\"Successfully connected to bootstrap server\")\n",
    "else:\n",
    "    print(\"Couldn't connect to bootstrap server.\")\n",
    "\n",
    "TOPIC_NAME = \"ml-raw-dns\""
   ]
  },
  {
   "cell_type": "code",
   "execution_count": 3,
   "id": "ce8bb86c",
   "metadata": {},
   "outputs": [],
   "source": [
    "def produce_message(producer_instance, topic, message):\n",
    "    producer_instance.send(topic, message)\n",
    "    producer_instance.flush()\n",
    "    return"
   ]
  },
  {
   "cell_type": "code",
   "execution_count": 4,
   "id": "9a1c01ee",
   "metadata": {},
   "outputs": [
    {
     "name": "stdout",
     "output_type": "stream",
     "text": [
      "Dataset updated: dropped 'Unnamed: 0', converted labels, reshuffled rows.\n",
      "New shape: (81503, 79)\n",
      "   destination port  flow duration  total fwd packets  total backward packets  \\\n",
      "0               443       15106280                 21                      19   \n",
      "1                53            153                  2                       2   \n",
      "2             29080        6178179                  1                       6   \n",
      "3                53            219                  2                       2   \n",
      "4                53          25775                  1                       1   \n",
      "\n",
      "   total length of fwd packets  total length of bwd packets  \\\n",
      "0                         9091                        16744   \n",
      "1                           84                          140   \n",
      "2                            6                           36   \n",
      "3                           76                          154   \n",
      "4                           49                          177   \n",
      "\n",
      "   fwd packet length max  fwd packet length min  fwd packet length mean  \\\n",
      "0                   1696                      0              432.904762   \n",
      "1                     42                     42               42.000000   \n",
      "2                      6                      6                6.000000   \n",
      "3                     38                     38               38.000000   \n",
      "4                     49                     49               49.000000   \n",
      "\n",
      "   fwd packet length std  ...  min_seg_size_forward  active mean  active std  \\\n",
      "0             606.878481  ...                    32    5106547.0         0.0   \n",
      "1               0.000000  ...                    32          0.0         0.0   \n",
      "2               0.000000  ...                    20       4986.0         0.0   \n",
      "3               0.000000  ...                    32          0.0         0.0   \n",
      "4               0.000000  ...                    20          0.0         0.0   \n",
      "\n",
      "   active max  active min  idle mean  idle std  idle max  idle min  label  \n",
      "0     5106547     5106547  9999732.0       0.0   9999732   9999732      0  \n",
      "1           0           0        0.0       0.0         0         0      0  \n",
      "2        4986        4986  6173193.0       0.0   6173193   6173193      0  \n",
      "3           0           0        0.0       0.0         0         0      0  \n",
      "4           0           0        0.0       0.0         0         0      0  \n",
      "\n",
      "[5 rows x 79 columns]\n"
     ]
    }
   ],
   "source": [
    "df = pd.read_csv(\"test.csv\")\n",
    "\n",
    "df.drop('Unnamed: 0', axis=1, inplace=True, errors='ignore')\n",
    "\n",
    "df['label'] = df['label'].apply(lambda x: 0 if x == 'BENIGN' else 1)\n",
    "\n",
    "df = df.sample(frac=1, random_state=42).reset_index(drop=True)\n",
    "\n",
    "df.to_csv(\"new_test.csv\", index=False)\n",
    "\n",
    "print(\"Dataset updated: dropped 'Unnamed: 0', converted labels, reshuffled rows.\")\n",
    "print(\"New shape:\", df.shape)\n",
    "print(df.head())"
   ]
  },
  {
   "cell_type": "code",
   "execution_count": 5,
   "id": "5a5194c5",
   "metadata": {},
   "outputs": [
    {
     "name": "stderr",
     "output_type": "stream",
     "text": [
      "81504it [01:41, 803.80it/s]"
     ]
    },
    {
     "name": "stdout",
     "output_type": "stream",
     "text": [
      "Batch took 0:01:41.419581 time for ingesting data\n",
      "Ingestion Completed\n"
     ]
    },
    {
     "name": "stderr",
     "output_type": "stream",
     "text": [
      "\n"
     ]
    }
   ],
   "source": [
    "with open(\"new_test.csv\") as f:\n",
    "    start_time = datetime.now()\n",
    "    for i, line in tqdm(enumerate(f)):\n",
    "        produce_message(producer_instance=producer, topic=TOPIC_NAME, message=line)\n",
    "    end_time = datetime.now()\n",
    "    print(f\"Batch took {end_time-start_time} time for ingesting data\")\n",
    "\n",
    "print(\"Ingestion Completed\")"
   ]
  },
  {
   "cell_type": "code",
   "execution_count": null,
   "id": "0d46be2b",
   "metadata": {},
   "outputs": [],
   "source": []
  }
 ],
 "metadata": {
  "kernelspec": {
   "display_name": "project_env",
   "language": "python",
   "name": "proj_env"
  },
  "language_info": {
   "codemirror_mode": {
    "name": "ipython",
    "version": 3
   },
   "file_extension": ".py",
   "mimetype": "text/x-python",
   "name": "python",
   "nbconvert_exporter": "python",
   "pygments_lexer": "ipython3",
   "version": "3.10.16"
  }
 },
 "nbformat": 4,
 "nbformat_minor": 5
}
