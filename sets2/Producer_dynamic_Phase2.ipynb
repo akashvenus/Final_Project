{
 "cells": [
  {
   "cell_type": "code",
   "execution_count": 1,
   "id": "62f5eaf9",
   "metadata": {},
   "outputs": [],
   "source": [
    "#!pip install kafka-python"
   ]
  },
  {
   "cell_type": "code",
   "execution_count": 2,
   "id": "f3f4b048",
   "metadata": {},
   "outputs": [],
   "source": [
    "#!pip install tqdm"
   ]
  },
  {
   "cell_type": "code",
   "execution_count": 3,
   "id": "676fb1b4",
   "metadata": {},
   "outputs": [],
   "source": [
    "import pandas as pd\n",
    "from kafka import KafkaProducer\n",
    "from datetime import datetime\n",
    "from json import dumps\n",
    "from tqdm import tqdm"
   ]
  },
  {
   "cell_type": "code",
   "execution_count": 4,
   "id": "ae2905f7",
   "metadata": {},
   "outputs": [
    {
     "name": "stdout",
     "output_type": "stream",
     "text": [
      "Successfully connected to bootstrap server\n"
     ]
    }
   ],
   "source": [
    "producer = KafkaProducer(bootstrap_servers=['localhost:9092'],\n",
    "                         value_serializer=lambda x: \n",
    "                         dumps(x).encode('utf-8'))\n",
    "if producer.bootstrap_connected():\n",
    "    print(f\"Successfully connected to bootstrap server\")\n",
    "else:\n",
    "    print(\"Couldn't connect to bootstrap server.\")\n",
    "\n",
    "TOPIC_NAME = \"ml-raw-dns\""
   ]
  },
  {
   "cell_type": "code",
   "execution_count": 5,
   "id": "ce8bb86c",
   "metadata": {},
   "outputs": [],
   "source": [
    "def produce_message(producer_instance, topic, message):\n",
    "    producer_instance.send(topic, message)\n",
    "    producer_instance.flush()\n",
    "    return"
   ]
  },
  {
   "cell_type": "code",
   "execution_count": 6,
   "id": "9a1c01ee",
   "metadata": {},
   "outputs": [
    {
     "name": "stdout",
     "output_type": "stream",
     "text": [
      "Dataset updated: dropped 'Unnamed: 0', converted labels, reshuffled rows.\n",
      "New shape: (94615, 11)\n",
      "   bwd packets/s  destination port  init_win_bytes_forward  flow packets/s  \\\n",
      "0      35.825280                53                      -1       71.650560   \n",
      "1       8.792677                53                      -1       17.585355   \n",
      "2       0.000000                81                     396     -620.086957   \n",
      "3       0.485000             33208                     229        0.582001   \n",
      "4       0.081689                80                     251        0.163379   \n",
      "\n",
      "   bwd packet length min  down/up ratio  psh flag count  act_data_pkt_fwd  \\\n",
      "0                     56              1               0                 3   \n",
      "1                     89              1               0                 0   \n",
      "2                      0              1               0                 0   \n",
      "3                      6              5               0                 0   \n",
      "4                      0              1               0                 1   \n",
      "\n",
      "   total fwd packets  subflow fwd bytes  label  \n",
      "0                  4                160      1  \n",
      "1                  1                 42      1  \n",
      "2                  5                468      1  \n",
      "3                  1                  6      1  \n",
      "4                  7                332      1  \n"
     ]
    }
   ],
   "source": [
    "# Load\n",
    "df = pd.read_csv(\"combined_test_df.csv\")\n",
    "\n",
    "# Drop auto‑generated index column if present\n",
    "df.drop(columns=[\"Unnamed: 0\"], inplace=True, errors=\"ignore\")\n",
    "\n",
    "# Convert labels to binary\n",
    "df[\"label\"] = df[\"label\"].apply(lambda x: 0 if x == \"BENIGN\" else 1)\n",
    "\n",
    "# Specify the top features exactly\n",
    "best_features = [\n",
    "    \"bwd packets/s\",\n",
    "    \"destination port\",\n",
    "    \"init_win_bytes_forward\",\n",
    "    \"flow packets/s\",\n",
    "    \"bwd packet length min\",\n",
    "    \"down/up ratio\",\n",
    "    \"psh flag count\",\n",
    "    \"act_data_pkt_fwd\",\n",
    "    \"total fwd packets\",\n",
    "    \"subflow fwd bytes\",\n",
    "]\n",
    "\n",
    "# Select only those columns + the label\n",
    "df = df[best_features + [\"label\"]]\n",
    "\n",
    "# Shuffle and reset index\n",
    "df = df.sample(frac=1, random_state=42).reset_index(drop=True)\n",
    "\n",
    "# Save\n",
    "df.to_csv(\"combined_test_df_phase2.csv\", index=False)\n",
    "\n",
    "print(\"Dataset updated: dropped 'Unnamed: 0', converted labels, reshuffled rows.\")\n",
    "print(\"New shape:\", df.shape)\n",
    "print(df.head())"
   ]
  },
  {
   "cell_type": "code",
   "execution_count": 7,
   "id": "5a5194c5",
   "metadata": {},
   "outputs": [
    {
     "name": "stderr",
     "output_type": "stream",
     "text": [
      "94616it [12:19, 128.00it/s]"
     ]
    },
    {
     "name": "stdout",
     "output_type": "stream",
     "text": [
      "Batch took 0:12:19.946195 time for ingesting data\n",
      "Ingestion Completed\n"
     ]
    },
    {
     "name": "stderr",
     "output_type": "stream",
     "text": [
      "\n"
     ]
    }
   ],
   "source": [
    "with open(\"combined_test_df_phase2.csv\") as f:\n",
    "    start_time = datetime.now()\n",
    "    for i, line in tqdm(enumerate(f)):\n",
    "        produce_message(producer_instance=producer, topic=TOPIC_NAME, message=line)\n",
    "    end_time = datetime.now()\n",
    "    print(f\"Batch took {end_time-start_time} time for ingesting data\")\n",
    "\n",
    "print(\"Ingestion Completed\")"
   ]
  }
 ],
 "metadata": {
  "kernelspec": {
   "display_name": "venv",
   "language": "python",
   "name": "python3"
  },
  "language_info": {
   "codemirror_mode": {
    "name": "ipython",
    "version": 3
   },
   "file_extension": ".py",
   "mimetype": "text/x-python",
   "name": "python",
   "nbconvert_exporter": "python",
   "pygments_lexer": "ipython3",
   "version": "3.10.11"
  }
 },
 "nbformat": 4,
 "nbformat_minor": 5
}
